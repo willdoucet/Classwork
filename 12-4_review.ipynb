{
 "cells": [
  {
   "cell_type": "markdown",
   "metadata": {},
   "source": [
    "# Classes\n",
    "\n",
    "For more information on the magic methods of pytho classes, consult the docs: https://docs.python.org/3/reference/datamodel.html\n"
   ]
  },
  {
   "cell_type": "code",
   "execution_count": 1,
   "metadata": {},
   "outputs": [
    {
     "name": "stdout",
     "output_type": "stream",
     "text": [
      "I'm representing an instance of my dumbclass\n"
     ]
    },
    {
     "data": {
      "text/plain": [
       "I'm representing an instance of my dumbclass"
      ]
     },
     "execution_count": 1,
     "metadata": {},
     "output_type": "execute_result"
    }
   ],
   "source": [
    "class DumbClass:\n",
    "    \"\"\" This class is just meant to demonstrate the magic __repr__ method\n",
    "    \"\"\"\n",
    "    \n",
    "    def __repr__(self):\n",
    "        \"\"\" I'm giving this method a docstring\n",
    "        \"\"\"\n",
    "        return(\"I'm representing an instance of my dumbclass\")\n",
    "\n",
    "dc = DumbClass()\n",
    "print(dc)\n",
    "dc"
   ]
  },
  {
   "cell_type": "code",
   "execution_count": 2,
   "metadata": {},
   "outputs": [
    {
     "name": "stdout",
     "output_type": "stream",
     "text": [
      "Help on class DumbClass in module __main__:\n",
      "\n",
      "class DumbClass(builtins.object)\n",
      " |  This class is just meant to demonstrate the magic __repr__ method\n",
      " |  \n",
      " |  Methods defined here:\n",
      " |  \n",
      " |  __repr__(self)\n",
      " |      I'm giving this method a docstring\n",
      " |  \n",
      " |  ----------------------------------------------------------------------\n",
      " |  Data descriptors defined here:\n",
      " |  \n",
      " |  __dict__\n",
      " |      dictionary for instance variables (if defined)\n",
      " |  \n",
      " |  __weakref__\n",
      " |      list of weak references to the object (if defined)\n",
      "\n"
     ]
    }
   ],
   "source": [
    "help(DumbClass)"
   ]
  },
  {
   "cell_type": "code",
   "execution_count": 3,
   "metadata": {},
   "outputs": [],
   "source": [
    "class Stack:\n",
    "    \"\"\" A simple class implimenting some common features of Stack\n",
    "        objects\n",
    "    \"\"\"\n",
    "    \n",
    "    def __init__(self, iterable=None):\n",
    "        \"\"\" Initializes Stack objects. If an iterable is provided,\n",
    "            add elements from the iterable to this Stack until the\n",
    "            iterable is exhausted\n",
    "        \"\"\"\n",
    "        self.head = None\n",
    "        self.size = 0\n",
    "        if(iterable is not None):\n",
    "            for item in iterable:\n",
    "                self.add(item)\n",
    "    \n",
    "    def add(self, item):\n",
    "        \"\"\" Add an element to the top of the stack. This method will\n",
    "            modify self and return self.\n",
    "        \"\"\"\n",
    "        self.head = (item, self.head)\n",
    "        self.size += 1\n",
    "        return self\n",
    "    \n",
    "    def pop(self):\n",
    "        \"\"\" remove the top item from the stack and return it\n",
    "        \"\"\"\n",
    "        if(len(self) > 0):\n",
    "            ret = self.head[0]\n",
    "            self.head = self.head[1]\n",
    "            self.size -= 1\n",
    "            return ret\n",
    "        return None\n",
    "    \n",
    "    def __contains__(self, item):\n",
    "        \"\"\" Returns True if item is in self\n",
    "        \"\"\"\n",
    "        for i in self:\n",
    "            if(i == item):\n",
    "                return True\n",
    "        return False\n",
    "    \n",
    "    def __len__(self):\n",
    "        \"\"\" Returns the number of items in self\n",
    "        \"\"\"\n",
    "        return self.size\n",
    "    \n",
    "    def __iter__(self):\n",
    "        \"\"\" prepares this stack for iteration and returns self\n",
    "        \"\"\"\n",
    "        self.curr = self.head\n",
    "        return self\n",
    "    \n",
    "    def __next__(self):\n",
    "        \"\"\" Returns items from the stack from top to bottom\n",
    "        \"\"\"\n",
    "        if(not hasattr(self, 'curr')):\n",
    "            iter(self)\n",
    "        if(self.curr is None):\n",
    "            raise StopIteration\n",
    "        else:\n",
    "            ret = self.curr[0]\n",
    "            self.curr = self.curr[1]\n",
    "            return ret\n",
    "    \n",
    "    def __reversed__(self):\n",
    "        \"\"\" returns a copy of self with the stack turned upside\n",
    "            down\n",
    "        \"\"\"\n",
    "        return Stack(self)\n",
    "    \n",
    "    \n",
    "    def __add__(self, other):\n",
    "        \"\"\" Put self on top of other\n",
    "        \"\"\"\n",
    "        ret = Stack(reversed(other))\n",
    "        for item in reversed(self):\n",
    "            ret.add(item)\n",
    "        return ret\n",
    "    \n",
    "    def __repr__(self):\n",
    "        \"\"\" Represent self as a string\n",
    "        \"\"\"\n",
    "        return f'Stack({str(list(self))})'"
   ]
  },
  {
   "cell_type": "code",
   "execution_count": 4,
   "metadata": {},
   "outputs": [
    {
     "name": "stdout",
     "output_type": "stream",
     "text": [
      "Stack([2, 3])\n",
      "\n",
      "Lets add 1 to the stack\n",
      "Stack([1, 2, 3])\n",
      "\n",
      "Lets remove an item from the top of the stack\n",
      "1\n",
      "Stack([2, 3])\n",
      "\n",
      "lets remove another item\n",
      "2\n",
      "Stack([3])\n"
     ]
    }
   ],
   "source": [
    "# Create a stack object and test some methods\n",
    "x = Stack([3, 2])\n",
    "print(x)\n",
    "\n",
    "# adds an element to the top of the stack\n",
    "print('\\nLets add 1 to the stack')\n",
    "x.add(1)\n",
    "print(x)\n",
    "\n",
    "# Removes the top most element\n",
    "print('\\nLets remove an item from the top of the stack')\n",
    "item = x.pop()\n",
    "print(item)\n",
    "print(x)\n",
    "\n",
    "# Removes the top most element\n",
    "print('\\nlets remove another item')\n",
    "item = x.pop()\n",
    "print(item)\n",
    "print(x)"
   ]
  },
  {
   "cell_type": "code",
   "execution_count": 5,
   "metadata": {},
   "outputs": [
    {
     "name": "stdout",
     "output_type": "stream",
     "text": [
      "Does my stack contain 2? False\n",
      "Does my stack contain 4? True\n",
      "How many elements are in my stack? 3\n"
     ]
    }
   ],
   "source": [
    "x = Stack([4,5,6])\n",
    "# Because I implimented the __contains__ method,\n",
    "# I can check if items are in stack objects\n",
    "print(f'Does my stack contain 2? {2 in x}')\n",
    "print(f'Does my stack contain 4? {4 in x}')\n",
    "# Because I implimented the __len__ method,\n",
    "# I can check how many items are in stack objects\n",
    "print(f'How many elements are in my stack? {len(x)}')"
   ]
  },
  {
   "cell_type": "code",
   "execution_count": null,
   "metadata": {},
   "outputs": [],
   "source": [
    "# because my stack class has an __iter__ and __next__ methods\n",
    "# I can iterate over stack objects\n",
    "x = Stack([7,3,4])\n",
    "print(f\"Lets iterate over my stack : {x}\")\n",
    "for item in x:\n",
    "    print(item)\n",
    "# Because my stack class has a __reversed__ method,\n",
    "# I can easily reverse a stack object\n",
    "print(f'I am flipping my stack upside down : {reversed(x)}')"
   ]
  },
  {
   "cell_type": "code",
   "execution_count": 6,
   "metadata": {},
   "outputs": [
    {
     "name": "stdout",
     "output_type": "stream",
     "text": [
      "I have two stacks\n",
      "x : Stack([6, 5, 4])\n",
      "y : Stack([3, 2, 1])\n",
      "Let's add them together\n",
      "x + y = Stack([6, 5, 4, 3, 2, 1])\n",
      "6\n",
      "5\n",
      "4\n",
      "3\n",
      "2\n",
      "1\n"
     ]
    }
   ],
   "source": [
    "# Because I implimented the __add__ method,\n",
    "# I can add stacks together\n",
    "x = Stack([4,5,6])\n",
    "y = Stack([1,2,3])\n",
    "print(\"I have two stacks\")\n",
    "print(f'x : {x}')\n",
    "print(f'y : {y}')\n",
    "print(\"Let's add them together\")\n",
    "print(f'x + y = {x + y}')\n",
    "for item in (x + y):\n",
    "    print(item)"
   ]
  },
  {
   "cell_type": "markdown",
   "metadata": {},
   "source": [
    "# Using the SqlAlchemy ORM\n",
    "For more information, check out the documentation : https://docs.sqlalchemy.org/en/latest/orm/tutorial.html"
   ]
  },
  {
   "cell_type": "code",
   "execution_count": 9,
   "metadata": {},
   "outputs": [],
   "source": [
    "from sqlalchemy import create_engine\n",
    "from sqlalchemy.ext.declarative import declarative_base\n",
    "from sqlalchemy import Column, Integer, String, Float, ForeignKey\n",
    "from sqlalchemy.orm import Session, relationship\n",
    "import pymysql\n",
    "pymysql.install_as_MySQLdb()"
   ]
  },
  {
   "cell_type": "code",
   "execution_count": 10,
   "metadata": {},
   "outputs": [],
   "source": [
    "# Sets an object to utilize the default declarative base in SQL Alchemy\n",
    "Base = declarative_base()\n",
    "\n",
    "\n",
    "# Lets define the owners table/class\n",
    "class Owners(Base):\n",
    "    __tablename__ = 'owners'\n",
    "    id = Column(Integer, primary_key=True)\n",
    "    name = Column(String(255))\n",
    "    phone_number = Column(String(255))\n",
    "    pets = relationship(\"Pets\", back_populates=\"owner\")\n",
    "\n",
    "    def __repr__(self):\n",
    "        return f\"<Owners(id={self.id}, name='{self.name}', phone_number='{self.phone_number}')>\"\n",
    "\n",
    "\n",
    "# Lets define the pets table/class\n",
    "class Pets(Base):\n",
    "    __tablename__ = 'pets'\n",
    "    id = Column(Integer, primary_key=True)\n",
    "    name = Column(String(255))\n",
    "    owner_id = Column(Integer, ForeignKey('owners.id'))\n",
    "    owner = relationship(\"Owners\", back_populates=\"pets\")\n",
    "    \n",
    "    def __repr__(self):\n",
    "        return f\"<Pets(id={self.id}, name='{self.name}', owner_id={self.owner_id})>\""
   ]
  },
  {
   "cell_type": "code",
   "execution_count": 12,
   "metadata": {},
   "outputs": [],
   "source": [
    "# Lets connect to my database\n",
    "# engine = create_engine(\"sqlite:///pets.sqlite\")\n",
    "engine = create_engine(\"mysql://root@localhost/review_db\")\n",
    "# conn = engine.connect()\n",
    "Base.metadata.create_all(engine)\n",
    "session = Session(bind=engine)"
   ]
  },
  {
   "cell_type": "code",
   "execution_count": 13,
   "metadata": {},
   "outputs": [],
   "source": [
    "# Lets create me\n",
    "me = Owners(name='Kenton', phone_number='867-5309')\n",
    "session.add(me)\n",
    "session.commit()\n",
    "# Now lets add my dog\n",
    "my_dog = Pets(name='Saxon', owner_id=me.id)\n",
    "session.add(my_dog)\n",
    "session.commit()"
   ]
  },
  {
   "cell_type": "code",
   "execution_count": 14,
   "metadata": {},
   "outputs": [
    {
     "name": "stdout",
     "output_type": "stream",
     "text": [
      "[<Owners(id=1, name='Kenton', phone_number='867-5309')>]\n",
      "[<Pets(id=1, name='Saxon', owner_id=1)>]\n"
     ]
    }
   ],
   "source": [
    "# We can query the tables using the session object from earlier\n",
    "#  Lets just get all the data\n",
    "all_owners = list(session.query(Owners))\n",
    "all_pets = list(session.query(Pets))\n",
    "print(all_owners)\n",
    "print(all_pets)"
   ]
  },
  {
   "cell_type": "code",
   "execution_count": 15,
   "metadata": {},
   "outputs": [
    {
     "name": "stdout",
     "output_type": "stream",
     "text": [
      "[<Pets(id=1, name='Saxon', owner_id=1)>]\n",
      "<Owners(id=1, name='Kenton', phone_number='867-5309')>\n"
     ]
    }
   ],
   "source": [
    "me = all_owners[0]\n",
    "rio = all_pets[0]\n",
    "# Because we are using an ORM and have defined relations,\n",
    "# we can easily and intuitively access related data\n",
    "print(me.pets)\n",
    "print(rio.owner)"
   ]
  },
  {
   "cell_type": "code",
   "execution_count": null,
   "metadata": {},
   "outputs": [],
   "source": []
  }
 ],
 "metadata": {
  "kernelspec": {
   "display_name": "Python 3",
   "language": "python",
   "name": "python3"
  },
  "language_info": {
   "codemirror_mode": {
    "name": "ipython",
    "version": 3
   },
   "file_extension": ".py",
   "mimetype": "text/x-python",
   "name": "python",
   "nbconvert_exporter": "python",
   "pygments_lexer": "ipython3",
   "version": "3.6.7"
  }
 },
 "nbformat": 4,
 "nbformat_minor": 2
}
