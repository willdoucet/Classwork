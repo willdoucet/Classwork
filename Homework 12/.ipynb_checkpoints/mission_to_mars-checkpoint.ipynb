{
 "cells": [
  {
   "cell_type": "code",
   "execution_count": 38,
   "metadata": {},
   "outputs": [],
   "source": [
    "import pandas as pd\n",
    "from splinter import Browser\n",
    "from bs4 import BeautifulSoup\n",
    "import pymongo"
   ]
  },
  {
   "cell_type": "code",
   "execution_count": 246,
   "metadata": {},
   "outputs": [
    {
     "ename": "ModuleNotFoundError",
     "evalue": "No module named 'flask_pymongo'",
     "output_type": "error",
     "traceback": [
      "\u001b[1;31m---------------------------------------------------------------------------\u001b[0m",
      "\u001b[1;31mModuleNotFoundError\u001b[0m                       Traceback (most recent call last)",
      "\u001b[1;32m<ipython-input-246-5894eecada11>\u001b[0m in \u001b[0;36m<module>\u001b[1;34m\u001b[0m\n\u001b[1;32m----> 1\u001b[1;33m \u001b[1;32mfrom\u001b[0m \u001b[0mflask_pymongo\u001b[0m \u001b[1;32mimport\u001b[0m \u001b[0mPyMongo\u001b[0m\u001b[1;33m\u001b[0m\u001b[1;33m\u001b[0m\u001b[0m\n\u001b[0m",
      "\u001b[1;31mModuleNotFoundError\u001b[0m: No module named 'flask_pymongo'"
     ]
    }
   ],
   "source": [
    "from flask_pymongo import PyMongo"
   ]
  },
  {
   "cell_type": "code",
   "execution_count": 39,
   "metadata": {},
   "outputs": [
    {
     "name": "stdout",
     "output_type": "stream",
     "text": [
      "/c/Users/Will/Anaconda3/Scripts/chromedriver\n"
     ]
    }
   ],
   "source": [
    "!which chromedriver"
   ]
  },
  {
   "cell_type": "code",
   "execution_count": 40,
   "metadata": {},
   "outputs": [],
   "source": [
    "def init_browser():\n",
    "    \n",
    "    executable_path = {'executable_path': '/c/Users/Will/Anaconda3/Scripts/chromedriver'}\n",
    "    browser = Browser('chrome', headless=False)"
   ]
  },
  {
   "cell_type": "code",
   "execution_count": null,
   "metadata": {},
   "outputs": [],
   "source": []
  },
  {
   "cell_type": "code",
   "execution_count": 42,
   "metadata": {},
   "outputs": [],
   "source": [
    "def scrape_article():\n",
    "    \n",
    "    article = {}\n",
    "\n",
    "    url='https://mars.nasa.gov/news/?page=0&per_page=40&order=publish_date+desc%2Ccreated_at+desc&search=&category=19%2C165%2C184%2C204&blank_scope=Latest'\n",
    "\n",
    "    browser.visit(url)\n",
    "\n",
    "    html = browser.html\n",
    "    soup = BeautifulSoup(html, \"html.parser\")\n",
    "\n",
    "    article['title'] = soup.find(\"div\", class_=\"content_title\").get_text()\n",
    "    article['p'] = soup.find(\"div\", class_=\"article_teaser_body\").get_text()\n",
    "    \n",
    "    return article"
   ]
  },
  {
   "cell_type": "code",
   "execution_count": 44,
   "metadata": {},
   "outputs": [],
   "source": [
    "art = scrape_article()"
   ]
  },
  {
   "cell_type": "code",
   "execution_count": 45,
   "metadata": {},
   "outputs": [
    {
     "data": {
      "text/plain": [
       "{'title': \"NASA's InSight Places First Instrument on Mars\",\n",
       " 'p': 'In deploying its first instrument onto the surface of Mars, the lander completes a major mission milestone.'}"
      ]
     },
     "execution_count": 45,
     "metadata": {},
     "output_type": "execute_result"
    }
   ],
   "source": [
    "art"
   ]
  },
  {
   "cell_type": "code",
   "execution_count": 46,
   "metadata": {},
   "outputs": [],
   "source": [
    "def scrape_jpl():\n",
    "    \n",
    "    url= 'https://www.jpl.nasa.gov/spaceimages/?search=&category=Mars'\n",
    "    browser.visit(url)\n",
    "\n",
    "    html = browser.html\n",
    "    soup = BeautifulSoup(html, \"html.parser\")\n",
    "\n",
    "    image_soup = soup.find(\"a\", class_=\"button fancybox\")\n",
    "\n",
    "    image_partial = image_soup['data-fancybox-href']\n",
    "    image_link = f\"https://www.jpl.nasa.gov{image_partial}\"\n",
    "    \n",
    "    return image_link\n"
   ]
  },
  {
   "cell_type": "code",
   "execution_count": 47,
   "metadata": {},
   "outputs": [],
   "source": [
    "img = scrape_image()"
   ]
  },
  {
   "cell_type": "code",
   "execution_count": 48,
   "metadata": {},
   "outputs": [
    {
     "data": {
      "text/plain": [
       "'https://www.jpl.nasa.gov/spaceimages/images/mediumsize/PIA20263_ip.jpg'"
      ]
     },
     "execution_count": 48,
     "metadata": {},
     "output_type": "execute_result"
    }
   ],
   "source": [
    "img"
   ]
  },
  {
   "cell_type": "code",
   "execution_count": 250,
   "metadata": {},
   "outputs": [],
   "source": [
    "def scrape_weather():\n",
    "    url = 'https://twitter.com/marswxreport?lang=en'\n",
    "    browser.visit(url)\n",
    "    \n",
    "    html = browser.html\n",
    "    soup = BeautifulSoup(html, \"html.parser\")\n",
    "    \n",
    "    weather_scrape = soup.find(\"li\", {\"data-item-type\": \"tweet\"})\n",
    "    weather_content = weather_scrape.find(\"p\", {\"class\": \"TweetTextSize TweetTextSize--normal js-tweet-text tweet-text\"}).get_text()\n",
    "    images_in_text = weather_scrape.find_all(\"a\", class_=\"twitter-timeline-link u-hidden\")\n",
    "    \n",
    "    for image in images_in_text:\n",
    "        weather_t = weather_content.replace(image.text, '')\n",
    "    \n",
    "    return weather_t\n",
    "    "
   ]
  },
  {
   "cell_type": "code",
   "execution_count": 251,
   "metadata": {
    "scrolled": true
   },
   "outputs": [
    {
     "ename": "UnboundLocalError",
     "evalue": "local variable 'weather_text' referenced before assignment",
     "output_type": "error",
     "traceback": [
      "\u001b[1;31m---------------------------------------------------------------------------\u001b[0m",
      "\u001b[1;31mUnboundLocalError\u001b[0m                         Traceback (most recent call last)",
      "\u001b[1;32m<ipython-input-251-c07168eb8dc4>\u001b[0m in \u001b[0;36m<module>\u001b[1;34m\u001b[0m\n\u001b[1;32m----> 1\u001b[1;33m \u001b[0mweather\u001b[0m \u001b[1;33m=\u001b[0m \u001b[0mscrape_weather\u001b[0m\u001b[1;33m(\u001b[0m\u001b[1;33m)\u001b[0m\u001b[1;33m\u001b[0m\u001b[1;33m\u001b[0m\u001b[0m\n\u001b[0m",
      "\u001b[1;32m<ipython-input-250-5b69dc6ae66c>\u001b[0m in \u001b[0;36mscrape_weather\u001b[1;34m()\u001b[0m\n\u001b[0;32m     13\u001b[0m         \u001b[0mweather_text\u001b[0m \u001b[1;33m=\u001b[0m \u001b[0mweather_content\u001b[0m\u001b[1;33m.\u001b[0m\u001b[0mreplace\u001b[0m\u001b[1;33m(\u001b[0m\u001b[0mimage\u001b[0m\u001b[1;33m.\u001b[0m\u001b[0mtext\u001b[0m\u001b[1;33m,\u001b[0m \u001b[1;34m''\u001b[0m\u001b[1;33m)\u001b[0m\u001b[1;33m\u001b[0m\u001b[1;33m\u001b[0m\u001b[0m\n\u001b[0;32m     14\u001b[0m \u001b[1;33m\u001b[0m\u001b[0m\n\u001b[1;32m---> 15\u001b[1;33m     \u001b[1;32mreturn\u001b[0m \u001b[0mweather_text\u001b[0m\u001b[1;33m\u001b[0m\u001b[1;33m\u001b[0m\u001b[0m\n\u001b[0m\u001b[0;32m     16\u001b[0m \u001b[1;33m\u001b[0m\u001b[0m\n",
      "\u001b[1;31mUnboundLocalError\u001b[0m: local variable 'weather_text' referenced before assignment"
     ]
    }
   ],
   "source": [
    "weather = scrape_weather()"
   ]
  },
  {
   "cell_type": "code",
   "execution_count": 252,
   "metadata": {},
   "outputs": [
    {
     "name": "stdout",
     "output_type": "stream",
     "text": [
      "Sol 2284 (2019-01-08), high -7C/19F, low -70C/-93F, pressure at 8.29 hPa, daylight 06:44-18:55\n"
     ]
    }
   ],
   "source": [
    "print(weather)"
   ]
  },
  {
   "cell_type": "code",
   "execution_count": 101,
   "metadata": {},
   "outputs": [],
   "source": [
    "def scrape_facts():\n",
    "    url = 'https://space-facts.com/mars/'\n",
    "    fact_table = pd.read_html(url)\n",
    "    \n",
    "    return fact_table"
   ]
  },
  {
   "cell_type": "code",
   "execution_count": 102,
   "metadata": {},
   "outputs": [],
   "source": [
    "facts = scrape_facts()"
   ]
  },
  {
   "cell_type": "code",
   "execution_count": 104,
   "metadata": {},
   "outputs": [
    {
     "data": {
      "text/plain": [
       "[                      0                              1\n",
       " 0  Equatorial Diameter:                       6,792 km\n",
       " 1       Polar Diameter:                       6,752 km\n",
       " 2                 Mass:  6.42 x 10^23 kg (10.7% Earth)\n",
       " 3                Moons:            2 (Phobos & Deimos)\n",
       " 4       Orbit Distance:       227,943,824 km (1.52 AU)\n",
       " 5         Orbit Period:           687 days (1.9 years)\n",
       " 6  Surface Temperature:                  -153 to 20 °C\n",
       " 7         First Record:              2nd millennium BC\n",
       " 8          Recorded By:           Egyptian astronomers]"
      ]
     },
     "execution_count": 104,
     "metadata": {},
     "output_type": "execute_result"
    }
   ],
   "source": [
    "facts"
   ]
  },
  {
   "cell_type": "code",
   "execution_count": 243,
   "metadata": {},
   "outputs": [],
   "source": [
    "def scrape_image():\n",
    "    url = 'http://www.planetary.org/multimedia/space-images/mars/'\n",
    "    browser.visit(url)\n",
    "\n",
    "    html = browser.html\n",
    "    soup = BeautifulSoup(html, 'html.parser')\n",
    "\n",
    "    image_scrape = soup.find_all('ul', class_='grid')\n",
    "\n",
    "    image_block= image_scrape[0].find_all('img')\n",
    "\n",
    "    image_list = []\n",
    "    for image in image_block:\n",
    "        image_dict = {}\n",
    "        image_dict['caption'] = image['alt']\n",
    "        image_dict['link'] = image['src']\n",
    "        image_list.append(image_dict)\n",
    "\n",
    "    return image_list\n",
    "    "
   ]
  },
  {
   "cell_type": "code",
   "execution_count": 244,
   "metadata": {},
   "outputs": [],
   "source": [
    "boobs= scrape_image()"
   ]
  },
  {
   "cell_type": "code",
   "execution_count": 245,
   "metadata": {},
   "outputs": [
    {
     "data": {
      "text/plain": [
       "[{'caption': 'InSight tether storage box opening',\n",
       "  'link': 'https://planetary.s3.amazonaws.com/assets/images/4-mars/2019/20190109_actualites_Install_TSB_Opening_GIF_f537.gif'},\n",
       " {'caption': 'Load Shunt Assembly opening on InSight (annotated)',\n",
       "  'link': 'https://planetary.s3.amazonaws.com/assets/images/technology/2019/20190109_LSA_Release_animation_f537.gif'},\n",
       " {'caption': 'InSight SEIS tether moves with changing temperature',\n",
       "  'link': 'https://planetary.s3.amazonaws.com/assets/images/4-mars/2019/20190109_actualites_Install_SEIS_Tether_Thermo_GIF_f537.gif'},\n",
       " {'caption': 'SEIS leveling (sol 30)',\n",
       "  'link': 'https://planetary.s3.amazonaws.com/assets/images/4-mars/2019/20190109_actualites_Install_SEIS_LVL_GIF_f537.gif'},\n",
       " {'caption': 'InSight SEIS Load Shunt Assembly opening',\n",
       "  'link': 'https://planetary.s3.amazonaws.com/assets/images/4-mars/2019/20190109_actualites_Install_LSA_Opening_Zoom_GIF_f537.gif'},\n",
       " {'caption': 'A view inside the Curiosity SAM inlet',\n",
       "  'link': 'https://planetary.s3.amazonaws.com/assets/images/spacecraft/2018/20180830_2155ML0115990000803151E01_DXXX_f537.jpg'},\n",
       " {'caption': \"InSight's seismometer levels itself, sol 30\",\n",
       "  'link': 'https://planetary.s3.amazonaws.com/assets/images/spacecraft/2018/20181228_SEIS_26_30_tilt_f537.gif'},\n",
       " {'caption': 'Decoding InSight image filenames',\n",
       "  'link': 'https://planetary.s3.amazonaws.com/assets/images/technology/2018/20181219_insight-camera-naming-convention-diagram-01_f537.png'},\n",
       " {'caption': 'SEIS on the Martian surface, sol 23',\n",
       "  'link': 'https://planetary.s3.amazonaws.com/assets/images/spacecraft/2018/20181220_C000M0023_598578217EDR_F0000_0800M__f537.jpg'},\n",
       " {'caption': 'InSight SEIS deployment animation, sol 22',\n",
       "  'link': 'https://planetary.s3.amazonaws.com/assets/images/spacecraft/2018/insight_sol22_seis_deployment_time_stamps_paulh_esl_f537.gif'},\n",
       " {'caption': 'SEIS dangling, sol 22',\n",
       "  'link': 'https://planetary.s3.amazonaws.com/assets/images/spacecraft/2018/20181220_D000M0022_598503325EDR_F0000_0200M__f537.jpg'},\n",
       " {'caption': \"Sounds of Mars: NASA's InSight senses Martian wind\",\n",
       "  'link': 'http://img.youtube.com/vi/yT50Q_Zbf3s/0.jpg'},\n",
       " {'caption': 'The InSight workspace on sol 16',\n",
       "  'link': 'https://planetary.s3.amazonaws.com/assets/images/technology/2018/20181219_insight_workspace_50cm_f537.jpg'},\n",
       " {'caption': \"InSight's self-portrait as a virtual-reality panorama\",\n",
       "  'link': 'https://planetary.s3.amazonaws.com/assets/images/4-mars/2018/20181219_insight-sol14-360cities-panorama-screengrab-bodrov_f537.jpg'},\n",
       " {'caption': 'Location of the InSight landing site within its landing ellipse',\n",
       "  'link': 'https://planetary.s3.amazonaws.com/assets/images/4-mars/2018/20181213_insight_regional_map_f537.png'},\n",
       " {'caption': 'Location of the InSight landing site on HiRISE image ESP_036761_1845',\n",
       "  'link': 'https://planetary.s3.amazonaws.com/assets/images/4-mars/2018/20181213_insight_landing_location_ESP_036761_1845_f537.jpg'},\n",
       " {'caption': 'HiRISE images of InSight hardware on Mars',\n",
       "  'link': 'https://planetary.s3.amazonaws.com/assets/images/4-mars/2018/20181213_ESP_058005_1845-labels_f537.jpg'},\n",
       " {'caption': 'Grange, a target with mineral crystals, Curiosity sol 2217',\n",
       "  'link': 'https://planetary.s3.amazonaws.com/assets/images/4-mars/2018/20181206_2217MH0001630000803035R00_DXXX_anno_f537.jpg'},\n",
       " {'caption': 'Dust devils in Gale crater, sol 2215',\n",
       "  'link': 'https://planetary.s3.amazonaws.com/assets/images/4-mars/2018/20181206_2215_nla_diff_f233.gif'},\n",
       " {'caption': 'Highfield drill site, near Lake Orcadie, on Vera Rubin ridge',\n",
       "  'link': 'https://planetary.s3.amazonaws.com/assets/images/4-mars/2018/20181206_2224MR0117900010105954E01_DXXX_f537.jpg'},\n",
       " {'caption': 'The view from Lake Orcadie, Curiosity sol 2247',\n",
       "  'link': 'https://planetary.s3.amazonaws.com/assets/images/4-mars/2018/20181206_sol2247_Mcam_pan_nahum-mendez-chazarra_f537.jpg'},\n",
       " {'caption': 'Dumping the rest of the Highfield sample, Curiosity sol 2240',\n",
       "  'link': 'https://planetary.s3.amazonaws.com/assets/images/4-mars/2018/sample_drop_2240_animation_f537.gif'},\n",
       " {'caption': 'A day in the life of a rear Hazcam',\n",
       "  'link': 'https://planetary.s3.amazonaws.com/assets/images/4-mars/2018/20181206_MSL_2210-2209_Rear-left_Hazcamb_f537.gif'},\n",
       " {'caption': 'Attempted drill site at Inverness',\n",
       "  'link': 'https://planetary.s3.amazonaws.com/assets/images/4-mars/2018/20181206_2217MH0001630000803045R00_DXXX_f537.jpg'},\n",
       " {'caption': \"Eridania lake, Mars (artist's impression)\",\n",
       "  'link': 'https://planetary.s3.amazonaws.com/assets/images/art/20181205_eridania_lake_mars_gill_f537.jpg'},\n",
       " {'caption': 'Farewell, Mars',\n",
       "  'link': 'https://planetary.s3.amazonaws.com/assets/images/4-mars/2018/20181204_PIA22833_f537.jpg'},\n",
       " {'caption': \"First image from InSight's Instrument Deployment Camera on Mars\",\n",
       "  'link': 'https://planetary.s3.amazonaws.com/assets/images/4-mars/2018/20181127_sol_0000_idc_D000M0000_596535424EDR_F0000_0106M__f537.jpg'},\n",
       " {'caption': 'MarCO view of Mars after InSight landing',\n",
       "  'link': 'https://planetary.s3.amazonaws.com/assets/images/4-mars/2018/20181126_marco20181126-1041_f537.jpg'},\n",
       " {'caption': \"InSight's first picture from the Martian surface\",\n",
       "  'link': 'https://planetary.s3.amazonaws.com/assets/images/4-mars/2018/20181126_insight_first_photo_f537.jpg'},\n",
       " {'caption': '20k view of the Jezero crater delta',\n",
       "  'link': 'https://planetary.s3.amazonaws.com/assets/images/4-mars/2018/20181119_jezero_delta_perspective_20k_doran_f537.jpg'},\n",
       " {'caption': 'Flight through Jezero crater',\n",
       "  'link': 'http://img.youtube.com/vi/mYVuY9IUKl0/0.jpg'},\n",
       " {'caption': 'Notional traverses for the Mars 2020 rover',\n",
       "  'link': 'https://planetary.s3.amazonaws.com/assets/images/charts-diagrams/2018/20181119_GuptaandHorganm2020_lsw_day2_19_Jezero_Finaloperationsscenario_Page_11_f537.png'},\n",
       " {'caption': 'Regional basement geology of Jezero crater, Mars',\n",
       "  'link': 'https://planetary.s3.amazonaws.com/assets/images/charts-diagrams/2018/20181119_jezero_regional_basement_geology_goudge_f537.jpg'},\n",
       " {'caption': 'Jezero crater regional topography',\n",
       "  'link': 'https://planetary.s3.amazonaws.com/assets/images/charts-diagrams/2018/20181119_jezero_regional_topography_goudge_f537.jpg'},\n",
       " {'caption': 'Mars 2020 landing ellipse in Jezero crater',\n",
       "  'link': 'https://planetary.s3.amazonaws.com/assets/images/charts-diagrams/2018/20181119_H0988_0000_rgb_jezero_ellipse_f537.jpg'},\n",
       " {'caption': 'China Mars 2020 rover',\n",
       "  'link': 'https://planetary.s3.amazonaws.com/assets/images/spacecraft/2018/20181117_china-2020-rover_f537.jpg'},\n",
       " {'caption': 'China Mars 2020 rover landing sites',\n",
       "  'link': 'https://planetary.s3.amazonaws.com/assets/images/charts-diagrams/2018/20181117_china-mars-2020-sites_f537.png'},\n",
       " {'caption': 'Location of Jezero Crater Mars 2020 landing site, Mars',\n",
       "  'link': 'https://planetary.s3.amazonaws.com/assets/images/charts-diagrams/2018/20181116_jezero-landing-location-MCC_MRC_20141007T090142018_D_D32_f537.jpg'},\n",
       " {'caption': 'Map of Jezero, Midway, and Northeast Syrtis landing sites',\n",
       "  'link': 'https://planetary.s3.amazonaws.com/assets/images/charts-diagrams/2018/20181116_mars2020_ellipses_h0988_0000_rgb_f537.jpg'},\n",
       " {'caption': \"NASA's Insight landing on Mars (artist's concept)\",\n",
       "  'link': 'https://planetary.s3.amazonaws.com/assets/images/spacecraft/2018/20181105_insight-landing-illustration_f537.jpg'},\n",
       " {'caption': \"NASA's First Image of Mars from a CubeSat\",\n",
       "  'link': 'https://planetary.s3.amazonaws.com/assets/images/4-mars/2018/20181022_PIA22742-16_f537.jpg'},\n",
       " {'caption': 'MAVEN with Mars',\n",
       "  'link': 'https://planetary.s3.amazonaws.com/assets/images/spacecraft/2018/20181005_mavenselfie_mars-14sep.png'},\n",
       " {'caption': 'MAVEN selfie, unannotated',\n",
       "  'link': 'https://planetary.s3.amazonaws.com/assets/images/spacecraft/2018/20181005_selfie_composite_unannotated-14sep_f537.png'},\n",
       " {'caption': 'MAVEN selfie, annotated',\n",
       "  'link': 'https://planetary.s3.amazonaws.com/assets/images/spacecraft/2018/20181005_selfie_composite_annotated_18sept_f537.png'},\n",
       " {'caption': 'Curiosity deck panorama at Stoer',\n",
       "  'link': 'https://planetary.s3.amazonaws.com/assets/images/4-mars/2018/20180906_PIA22545-mastcam-deckpan-sol2137_25pct_f537.jpg'},\n",
       " {'caption': 'Successful drill at Stoer, Curiosity sol 2136',\n",
       "  'link': 'https://planetary.s3.amazonaws.com/assets/images/4-mars/2018/20180906_2136MR0114540010205034E01_DXXX_f537.jpg'},\n",
       " {'caption': 'Aborted drill attempt at Voyageurs',\n",
       "  'link': 'https://planetary.s3.amazonaws.com/assets/images/4-mars/2018/20180831_2113MR0112910010404680E01_DXXX_f537.jpg'},\n",
       " {'caption': 'Drill attempt at Ailsa Craig',\n",
       "  'link': 'https://planetary.s3.amazonaws.com/assets/images/4-mars/2018/20180906_2123MR0113710080404851E01_DXXX_f537.jpg'}]"
      ]
     },
     "execution_count": 245,
     "metadata": {},
     "output_type": "execute_result"
    }
   ],
   "source": [
    "boobs"
   ]
  },
  {
   "cell_type": "code",
   "execution_count": 197,
   "metadata": {},
   "outputs": [
    {
     "name": "stdout",
     "output_type": "stream",
     "text": [
      "<a href=\"http://nssdc.gsfc.nasa.gov/planetary/image/mera_hills.jpg\">\n",
      "<img alt=\"\" src=\"http://nssdc.gsfc.nasa.gov/planetary/thumbnail/mera_hills.gif\"/></a>\n"
     ]
    }
   ],
   "source": [
    "print(boobs[1].find(\"a\"))"
   ]
  },
  {
   "cell_type": "code",
   "execution_count": 183,
   "metadata": {},
   "outputs": [
    {
     "ename": "AttributeError",
     "evalue": "ResultSet object has no attribute 'find_all'. You're probably treating a list of items like a single item. Did you call find_all() when you meant to call find()?",
     "output_type": "error",
     "traceback": [
      "\u001b[1;31m---------------------------------------------------------------------------\u001b[0m",
      "\u001b[1;31mAttributeError\u001b[0m                            Traceback (most recent call last)",
      "\u001b[1;32m<ipython-input-183-3ec0b57e0c70>\u001b[0m in \u001b[0;36m<module>\u001b[1;34m\u001b[0m\n\u001b[1;32m----> 1\u001b[1;33m \u001b[0mboobs\u001b[0m\u001b[1;33m.\u001b[0m\u001b[0mfind_all\u001b[0m\u001b[1;33m(\u001b[0m\u001b[1;34m'a'\u001b[0m\u001b[1;33m)\u001b[0m\u001b[1;33m\u001b[0m\u001b[1;33m\u001b[0m\u001b[0m\n\u001b[0m",
      "\u001b[1;32m~\\Anaconda3\\lib\\site-packages\\bs4\\element.py\u001b[0m in \u001b[0;36m__getattr__\u001b[1;34m(self, key)\u001b[0m\n\u001b[0;32m   1882\u001b[0m     \u001b[1;32mdef\u001b[0m \u001b[0m__getattr__\u001b[0m\u001b[1;33m(\u001b[0m\u001b[0mself\u001b[0m\u001b[1;33m,\u001b[0m \u001b[0mkey\u001b[0m\u001b[1;33m)\u001b[0m\u001b[1;33m:\u001b[0m\u001b[1;33m\u001b[0m\u001b[1;33m\u001b[0m\u001b[0m\n\u001b[0;32m   1883\u001b[0m         raise AttributeError(\n\u001b[1;32m-> 1884\u001b[1;33m             \u001b[1;34m\"ResultSet object has no attribute '%s'. You're probably treating a list of items like a single item. Did you call find_all() when you meant to call find()?\"\u001b[0m \u001b[1;33m%\u001b[0m \u001b[0mkey\u001b[0m\u001b[1;33m\u001b[0m\u001b[1;33m\u001b[0m\u001b[0m\n\u001b[0m\u001b[0;32m   1885\u001b[0m         )\n",
      "\u001b[1;31mAttributeError\u001b[0m: ResultSet object has no attribute 'find_all'. You're probably treating a list of items like a single item. Did you call find_all() when you meant to call find()?"
     ]
    }
   ],
   "source": [
    "boobs.find_all('a')"
   ]
  },
  {
   "cell_type": "code",
   "execution_count": 242,
   "metadata": {},
   "outputs": [
    {
     "data": {
      "text/plain": [
       "[{'caption': 'InSight tether storage box opening',\n",
       "  'link': 'https://planetary.s3.amazonaws.com/assets/images/4-mars/2019/20190109_actualites_Install_TSB_Opening_GIF_f537.gif'},\n",
       " {'caption': 'Load Shunt Assembly opening on InSight (annotated)',\n",
       "  'link': 'https://planetary.s3.amazonaws.com/assets/images/technology/2019/20190109_LSA_Release_animation_f537.gif'},\n",
       " {'caption': 'InSight SEIS tether moves with changing temperature',\n",
       "  'link': 'https://planetary.s3.amazonaws.com/assets/images/4-mars/2019/20190109_actualites_Install_SEIS_Tether_Thermo_GIF_f537.gif'},\n",
       " {'caption': 'SEIS leveling (sol 30)',\n",
       "  'link': 'https://planetary.s3.amazonaws.com/assets/images/4-mars/2019/20190109_actualites_Install_SEIS_LVL_GIF_f537.gif'},\n",
       " {'caption': 'InSight SEIS Load Shunt Assembly opening',\n",
       "  'link': 'https://planetary.s3.amazonaws.com/assets/images/4-mars/2019/20190109_actualites_Install_LSA_Opening_Zoom_GIF_f537.gif'},\n",
       " {'caption': 'A view inside the Curiosity SAM inlet',\n",
       "  'link': 'https://planetary.s3.amazonaws.com/assets/images/spacecraft/2018/20180830_2155ML0115990000803151E01_DXXX_f537.jpg'},\n",
       " {'caption': \"InSight's seismometer levels itself, sol 30\",\n",
       "  'link': 'https://planetary.s3.amazonaws.com/assets/images/spacecraft/2018/20181228_SEIS_26_30_tilt_f537.gif'},\n",
       " {'caption': 'Decoding InSight image filenames',\n",
       "  'link': 'https://planetary.s3.amazonaws.com/assets/images/technology/2018/20181219_insight-camera-naming-convention-diagram-01_f537.png'},\n",
       " {'caption': 'SEIS on the Martian surface, sol 23',\n",
       "  'link': 'https://planetary.s3.amazonaws.com/assets/images/spacecraft/2018/20181220_C000M0023_598578217EDR_F0000_0800M__f537.jpg'},\n",
       " {'caption': 'InSight SEIS deployment animation, sol 22',\n",
       "  'link': 'https://planetary.s3.amazonaws.com/assets/images/spacecraft/2018/insight_sol22_seis_deployment_time_stamps_paulh_esl_f537.gif'},\n",
       " {'caption': 'SEIS dangling, sol 22',\n",
       "  'link': 'https://planetary.s3.amazonaws.com/assets/images/spacecraft/2018/20181220_D000M0022_598503325EDR_F0000_0200M__f537.jpg'},\n",
       " {'caption': \"Sounds of Mars: NASA's InSight senses Martian wind\",\n",
       "  'link': 'http://img.youtube.com/vi/yT50Q_Zbf3s/0.jpg'},\n",
       " {'caption': 'The InSight workspace on sol 16',\n",
       "  'link': 'https://planetary.s3.amazonaws.com/assets/images/technology/2018/20181219_insight_workspace_50cm_f537.jpg'},\n",
       " {'caption': \"InSight's self-portrait as a virtual-reality panorama\",\n",
       "  'link': 'https://planetary.s3.amazonaws.com/assets/images/4-mars/2018/20181219_insight-sol14-360cities-panorama-screengrab-bodrov_f537.jpg'},\n",
       " {'caption': 'Location of the InSight landing site within its landing ellipse',\n",
       "  'link': 'https://planetary.s3.amazonaws.com/assets/images/4-mars/2018/20181213_insight_regional_map_f537.png'},\n",
       " {'caption': 'Location of the InSight landing site on HiRISE image ESP_036761_1845',\n",
       "  'link': 'https://planetary.s3.amazonaws.com/assets/images/4-mars/2018/20181213_insight_landing_location_ESP_036761_1845_f537.jpg'},\n",
       " {'caption': 'HiRISE images of InSight hardware on Mars',\n",
       "  'link': 'https://planetary.s3.amazonaws.com/assets/images/4-mars/2018/20181213_ESP_058005_1845-labels_f537.jpg'},\n",
       " {'caption': 'Grange, a target with mineral crystals, Curiosity sol 2217',\n",
       "  'link': 'https://planetary.s3.amazonaws.com/assets/images/4-mars/2018/20181206_2217MH0001630000803035R00_DXXX_anno_f537.jpg'},\n",
       " {'caption': 'Dust devils in Gale crater, sol 2215',\n",
       "  'link': 'https://planetary.s3.amazonaws.com/assets/images/4-mars/2018/20181206_2215_nla_diff_f233.gif'},\n",
       " {'caption': 'Highfield drill site, near Lake Orcadie, on Vera Rubin ridge',\n",
       "  'link': 'https://planetary.s3.amazonaws.com/assets/images/4-mars/2018/20181206_2224MR0117900010105954E01_DXXX_f537.jpg'},\n",
       " {'caption': 'The view from Lake Orcadie, Curiosity sol 2247',\n",
       "  'link': 'https://planetary.s3.amazonaws.com/assets/images/4-mars/2018/20181206_sol2247_Mcam_pan_nahum-mendez-chazarra_f537.jpg'},\n",
       " {'caption': 'Dumping the rest of the Highfield sample, Curiosity sol 2240',\n",
       "  'link': 'https://planetary.s3.amazonaws.com/assets/images/4-mars/2018/sample_drop_2240_animation_f537.gif'},\n",
       " {'caption': 'A day in the life of a rear Hazcam',\n",
       "  'link': 'https://planetary.s3.amazonaws.com/assets/images/4-mars/2018/20181206_MSL_2210-2209_Rear-left_Hazcamb_f537.gif'},\n",
       " {'caption': 'Attempted drill site at Inverness',\n",
       "  'link': 'https://planetary.s3.amazonaws.com/assets/images/4-mars/2018/20181206_2217MH0001630000803045R00_DXXX_f537.jpg'},\n",
       " {'caption': \"Eridania lake, Mars (artist's impression)\",\n",
       "  'link': 'https://planetary.s3.amazonaws.com/assets/images/art/20181205_eridania_lake_mars_gill_f537.jpg'},\n",
       " {'caption': 'Farewell, Mars',\n",
       "  'link': 'https://planetary.s3.amazonaws.com/assets/images/4-mars/2018/20181204_PIA22833_f537.jpg'},\n",
       " {'caption': \"First image from InSight's Instrument Deployment Camera on Mars\",\n",
       "  'link': 'https://planetary.s3.amazonaws.com/assets/images/4-mars/2018/20181127_sol_0000_idc_D000M0000_596535424EDR_F0000_0106M__f537.jpg'},\n",
       " {'caption': 'MarCO view of Mars after InSight landing',\n",
       "  'link': 'https://planetary.s3.amazonaws.com/assets/images/4-mars/2018/20181126_marco20181126-1041_f537.jpg'},\n",
       " {'caption': \"InSight's first picture from the Martian surface\",\n",
       "  'link': 'https://planetary.s3.amazonaws.com/assets/images/4-mars/2018/20181126_insight_first_photo_f537.jpg'},\n",
       " {'caption': '20k view of the Jezero crater delta',\n",
       "  'link': 'https://planetary.s3.amazonaws.com/assets/images/4-mars/2018/20181119_jezero_delta_perspective_20k_doran_f537.jpg'},\n",
       " {'caption': 'Flight through Jezero crater',\n",
       "  'link': 'http://img.youtube.com/vi/mYVuY9IUKl0/0.jpg'},\n",
       " {'caption': 'Notional traverses for the Mars 2020 rover',\n",
       "  'link': 'https://planetary.s3.amazonaws.com/assets/images/charts-diagrams/2018/20181119_GuptaandHorganm2020_lsw_day2_19_Jezero_Finaloperationsscenario_Page_11_f537.png'},\n",
       " {'caption': 'Regional basement geology of Jezero crater, Mars',\n",
       "  'link': 'https://planetary.s3.amazonaws.com/assets/images/charts-diagrams/2018/20181119_jezero_regional_basement_geology_goudge_f537.jpg'},\n",
       " {'caption': 'Jezero crater regional topography',\n",
       "  'link': 'https://planetary.s3.amazonaws.com/assets/images/charts-diagrams/2018/20181119_jezero_regional_topography_goudge_f537.jpg'},\n",
       " {'caption': 'Mars 2020 landing ellipse in Jezero crater',\n",
       "  'link': 'https://planetary.s3.amazonaws.com/assets/images/charts-diagrams/2018/20181119_H0988_0000_rgb_jezero_ellipse_f537.jpg'},\n",
       " {'caption': 'China Mars 2020 rover',\n",
       "  'link': 'https://planetary.s3.amazonaws.com/assets/images/spacecraft/2018/20181117_china-2020-rover_f537.jpg'},\n",
       " {'caption': 'China Mars 2020 rover landing sites',\n",
       "  'link': 'https://planetary.s3.amazonaws.com/assets/images/charts-diagrams/2018/20181117_china-mars-2020-sites_f537.png'},\n",
       " {'caption': 'Location of Jezero Crater Mars 2020 landing site, Mars',\n",
       "  'link': 'https://planetary.s3.amazonaws.com/assets/images/charts-diagrams/2018/20181116_jezero-landing-location-MCC_MRC_20141007T090142018_D_D32_f537.jpg'},\n",
       " {'caption': 'Map of Jezero, Midway, and Northeast Syrtis landing sites',\n",
       "  'link': 'https://planetary.s3.amazonaws.com/assets/images/charts-diagrams/2018/20181116_mars2020_ellipses_h0988_0000_rgb_f537.jpg'},\n",
       " {'caption': \"NASA's Insight landing on Mars (artist's concept)\",\n",
       "  'link': 'https://planetary.s3.amazonaws.com/assets/images/spacecraft/2018/20181105_insight-landing-illustration_f537.jpg'},\n",
       " {'caption': \"NASA's First Image of Mars from a CubeSat\",\n",
       "  'link': 'https://planetary.s3.amazonaws.com/assets/images/4-mars/2018/20181022_PIA22742-16_f537.jpg'},\n",
       " {'caption': 'MAVEN with Mars',\n",
       "  'link': 'https://planetary.s3.amazonaws.com/assets/images/spacecraft/2018/20181005_mavenselfie_mars-14sep.png'},\n",
       " {'caption': 'MAVEN selfie, unannotated',\n",
       "  'link': 'https://planetary.s3.amazonaws.com/assets/images/spacecraft/2018/20181005_selfie_composite_unannotated-14sep_f537.png'},\n",
       " {'caption': 'MAVEN selfie, annotated',\n",
       "  'link': 'https://planetary.s3.amazonaws.com/assets/images/spacecraft/2018/20181005_selfie_composite_annotated_18sept_f537.png'},\n",
       " {'caption': 'Curiosity deck panorama at Stoer',\n",
       "  'link': 'https://planetary.s3.amazonaws.com/assets/images/4-mars/2018/20180906_PIA22545-mastcam-deckpan-sol2137_25pct_f537.jpg'},\n",
       " {'caption': 'Successful drill at Stoer, Curiosity sol 2136',\n",
       "  'link': 'https://planetary.s3.amazonaws.com/assets/images/4-mars/2018/20180906_2136MR0114540010205034E01_DXXX_f537.jpg'},\n",
       " {'caption': 'Aborted drill attempt at Voyageurs',\n",
       "  'link': 'https://planetary.s3.amazonaws.com/assets/images/4-mars/2018/20180831_2113MR0112910010404680E01_DXXX_f537.jpg'},\n",
       " {'caption': 'Drill attempt at Ailsa Craig',\n",
       "  'link': 'https://planetary.s3.amazonaws.com/assets/images/4-mars/2018/20180906_2123MR0113710080404851E01_DXXX_f537.jpg'}]"
      ]
     },
     "execution_count": 242,
     "metadata": {},
     "output_type": "execute_result"
    }
   ],
   "source": [
    "\n"
   ]
  },
  {
   "cell_type": "code",
   "execution_count": 241,
   "metadata": {},
   "outputs": [
    {
     "data": {
      "text/plain": [
       "[{'caption': 'InSight tether storage box opening',\n",
       "  'link': 'https://planetary.s3.amazonaws.com/assets/images/4-mars/2019/20190109_actualites_Install_TSB_Opening_GIF_f537.gif'},\n",
       " {'caption': 'Load Shunt Assembly opening on InSight (annotated)',\n",
       "  'link': 'https://planetary.s3.amazonaws.com/assets/images/technology/2019/20190109_LSA_Release_animation_f537.gif'},\n",
       " {'caption': 'InSight SEIS tether moves with changing temperature',\n",
       "  'link': 'https://planetary.s3.amazonaws.com/assets/images/4-mars/2019/20190109_actualites_Install_SEIS_Tether_Thermo_GIF_f537.gif'},\n",
       " {'caption': 'SEIS leveling (sol 30)',\n",
       "  'link': 'https://planetary.s3.amazonaws.com/assets/images/4-mars/2019/20190109_actualites_Install_SEIS_LVL_GIF_f537.gif'},\n",
       " {'caption': 'InSight SEIS Load Shunt Assembly opening',\n",
       "  'link': 'https://planetary.s3.amazonaws.com/assets/images/4-mars/2019/20190109_actualites_Install_LSA_Opening_Zoom_GIF_f537.gif'},\n",
       " {'caption': 'A view inside the Curiosity SAM inlet',\n",
       "  'link': 'https://planetary.s3.amazonaws.com/assets/images/spacecraft/2018/20180830_2155ML0115990000803151E01_DXXX_f537.jpg'},\n",
       " {'caption': \"InSight's seismometer levels itself, sol 30\",\n",
       "  'link': 'https://planetary.s3.amazonaws.com/assets/images/spacecraft/2018/20181228_SEIS_26_30_tilt_f537.gif'},\n",
       " {'caption': 'Decoding InSight image filenames',\n",
       "  'link': 'https://planetary.s3.amazonaws.com/assets/images/technology/2018/20181219_insight-camera-naming-convention-diagram-01_f537.png'},\n",
       " {'caption': 'SEIS on the Martian surface, sol 23',\n",
       "  'link': 'https://planetary.s3.amazonaws.com/assets/images/spacecraft/2018/20181220_C000M0023_598578217EDR_F0000_0800M__f537.jpg'},\n",
       " {'caption': 'InSight SEIS deployment animation, sol 22',\n",
       "  'link': 'https://planetary.s3.amazonaws.com/assets/images/spacecraft/2018/insight_sol22_seis_deployment_time_stamps_paulh_esl_f537.gif'},\n",
       " {'caption': 'SEIS dangling, sol 22',\n",
       "  'link': 'https://planetary.s3.amazonaws.com/assets/images/spacecraft/2018/20181220_D000M0022_598503325EDR_F0000_0200M__f537.jpg'},\n",
       " {'caption': \"Sounds of Mars: NASA's InSight senses Martian wind\",\n",
       "  'link': 'http://img.youtube.com/vi/yT50Q_Zbf3s/0.jpg'},\n",
       " {'caption': 'The InSight workspace on sol 16',\n",
       "  'link': 'https://planetary.s3.amazonaws.com/assets/images/technology/2018/20181219_insight_workspace_50cm_f537.jpg'},\n",
       " {'caption': \"InSight's self-portrait as a virtual-reality panorama\",\n",
       "  'link': 'https://planetary.s3.amazonaws.com/assets/images/4-mars/2018/20181219_insight-sol14-360cities-panorama-screengrab-bodrov_f537.jpg'},\n",
       " {'caption': 'Location of the InSight landing site within its landing ellipse',\n",
       "  'link': 'https://planetary.s3.amazonaws.com/assets/images/4-mars/2018/20181213_insight_regional_map_f537.png'},\n",
       " {'caption': 'Location of the InSight landing site on HiRISE image ESP_036761_1845',\n",
       "  'link': 'https://planetary.s3.amazonaws.com/assets/images/4-mars/2018/20181213_insight_landing_location_ESP_036761_1845_f537.jpg'},\n",
       " {'caption': 'HiRISE images of InSight hardware on Mars',\n",
       "  'link': 'https://planetary.s3.amazonaws.com/assets/images/4-mars/2018/20181213_ESP_058005_1845-labels_f537.jpg'},\n",
       " {'caption': 'Grange, a target with mineral crystals, Curiosity sol 2217',\n",
       "  'link': 'https://planetary.s3.amazonaws.com/assets/images/4-mars/2018/20181206_2217MH0001630000803035R00_DXXX_anno_f537.jpg'},\n",
       " {'caption': 'Dust devils in Gale crater, sol 2215',\n",
       "  'link': 'https://planetary.s3.amazonaws.com/assets/images/4-mars/2018/20181206_2215_nla_diff_f233.gif'},\n",
       " {'caption': 'Highfield drill site, near Lake Orcadie, on Vera Rubin ridge',\n",
       "  'link': 'https://planetary.s3.amazonaws.com/assets/images/4-mars/2018/20181206_2224MR0117900010105954E01_DXXX_f537.jpg'},\n",
       " {'caption': 'The view from Lake Orcadie, Curiosity sol 2247',\n",
       "  'link': 'https://planetary.s3.amazonaws.com/assets/images/4-mars/2018/20181206_sol2247_Mcam_pan_nahum-mendez-chazarra_f537.jpg'},\n",
       " {'caption': 'Dumping the rest of the Highfield sample, Curiosity sol 2240',\n",
       "  'link': 'https://planetary.s3.amazonaws.com/assets/images/4-mars/2018/sample_drop_2240_animation_f537.gif'},\n",
       " {'caption': 'A day in the life of a rear Hazcam',\n",
       "  'link': 'https://planetary.s3.amazonaws.com/assets/images/4-mars/2018/20181206_MSL_2210-2209_Rear-left_Hazcamb_f537.gif'},\n",
       " {'caption': 'Attempted drill site at Inverness',\n",
       "  'link': 'https://planetary.s3.amazonaws.com/assets/images/4-mars/2018/20181206_2217MH0001630000803045R00_DXXX_f537.jpg'},\n",
       " {'caption': \"Eridania lake, Mars (artist's impression)\",\n",
       "  'link': 'https://planetary.s3.amazonaws.com/assets/images/art/20181205_eridania_lake_mars_gill_f537.jpg'},\n",
       " {'caption': 'Farewell, Mars',\n",
       "  'link': 'https://planetary.s3.amazonaws.com/assets/images/4-mars/2018/20181204_PIA22833_f537.jpg'},\n",
       " {'caption': \"First image from InSight's Instrument Deployment Camera on Mars\",\n",
       "  'link': 'https://planetary.s3.amazonaws.com/assets/images/4-mars/2018/20181127_sol_0000_idc_D000M0000_596535424EDR_F0000_0106M__f537.jpg'},\n",
       " {'caption': 'MarCO view of Mars after InSight landing',\n",
       "  'link': 'https://planetary.s3.amazonaws.com/assets/images/4-mars/2018/20181126_marco20181126-1041_f537.jpg'},\n",
       " {'caption': \"InSight's first picture from the Martian surface\",\n",
       "  'link': 'https://planetary.s3.amazonaws.com/assets/images/4-mars/2018/20181126_insight_first_photo_f537.jpg'},\n",
       " {'caption': '20k view of the Jezero crater delta',\n",
       "  'link': 'https://planetary.s3.amazonaws.com/assets/images/4-mars/2018/20181119_jezero_delta_perspective_20k_doran_f537.jpg'},\n",
       " {'caption': 'Flight through Jezero crater',\n",
       "  'link': 'http://img.youtube.com/vi/mYVuY9IUKl0/0.jpg'},\n",
       " {'caption': 'Notional traverses for the Mars 2020 rover',\n",
       "  'link': 'https://planetary.s3.amazonaws.com/assets/images/charts-diagrams/2018/20181119_GuptaandHorganm2020_lsw_day2_19_Jezero_Finaloperationsscenario_Page_11_f537.png'},\n",
       " {'caption': 'Regional basement geology of Jezero crater, Mars',\n",
       "  'link': 'https://planetary.s3.amazonaws.com/assets/images/charts-diagrams/2018/20181119_jezero_regional_basement_geology_goudge_f537.jpg'},\n",
       " {'caption': 'Jezero crater regional topography',\n",
       "  'link': 'https://planetary.s3.amazonaws.com/assets/images/charts-diagrams/2018/20181119_jezero_regional_topography_goudge_f537.jpg'},\n",
       " {'caption': 'Mars 2020 landing ellipse in Jezero crater',\n",
       "  'link': 'https://planetary.s3.amazonaws.com/assets/images/charts-diagrams/2018/20181119_H0988_0000_rgb_jezero_ellipse_f537.jpg'},\n",
       " {'caption': 'China Mars 2020 rover',\n",
       "  'link': 'https://planetary.s3.amazonaws.com/assets/images/spacecraft/2018/20181117_china-2020-rover_f537.jpg'},\n",
       " {'caption': 'China Mars 2020 rover landing sites',\n",
       "  'link': 'https://planetary.s3.amazonaws.com/assets/images/charts-diagrams/2018/20181117_china-mars-2020-sites_f537.png'},\n",
       " {'caption': 'Location of Jezero Crater Mars 2020 landing site, Mars',\n",
       "  'link': 'https://planetary.s3.amazonaws.com/assets/images/charts-diagrams/2018/20181116_jezero-landing-location-MCC_MRC_20141007T090142018_D_D32_f537.jpg'},\n",
       " {'caption': 'Map of Jezero, Midway, and Northeast Syrtis landing sites',\n",
       "  'link': 'https://planetary.s3.amazonaws.com/assets/images/charts-diagrams/2018/20181116_mars2020_ellipses_h0988_0000_rgb_f537.jpg'},\n",
       " {'caption': \"NASA's Insight landing on Mars (artist's concept)\",\n",
       "  'link': 'https://planetary.s3.amazonaws.com/assets/images/spacecraft/2018/20181105_insight-landing-illustration_f537.jpg'},\n",
       " {'caption': \"NASA's First Image of Mars from a CubeSat\",\n",
       "  'link': 'https://planetary.s3.amazonaws.com/assets/images/4-mars/2018/20181022_PIA22742-16_f537.jpg'},\n",
       " {'caption': 'MAVEN with Mars',\n",
       "  'link': 'https://planetary.s3.amazonaws.com/assets/images/spacecraft/2018/20181005_mavenselfie_mars-14sep.png'},\n",
       " {'caption': 'MAVEN selfie, unannotated',\n",
       "  'link': 'https://planetary.s3.amazonaws.com/assets/images/spacecraft/2018/20181005_selfie_composite_unannotated-14sep_f537.png'},\n",
       " {'caption': 'MAVEN selfie, annotated',\n",
       "  'link': 'https://planetary.s3.amazonaws.com/assets/images/spacecraft/2018/20181005_selfie_composite_annotated_18sept_f537.png'},\n",
       " {'caption': 'Curiosity deck panorama at Stoer',\n",
       "  'link': 'https://planetary.s3.amazonaws.com/assets/images/4-mars/2018/20180906_PIA22545-mastcam-deckpan-sol2137_25pct_f537.jpg'},\n",
       " {'caption': 'Successful drill at Stoer, Curiosity sol 2136',\n",
       "  'link': 'https://planetary.s3.amazonaws.com/assets/images/4-mars/2018/20180906_2136MR0114540010205034E01_DXXX_f537.jpg'},\n",
       " {'caption': 'Aborted drill attempt at Voyageurs',\n",
       "  'link': 'https://planetary.s3.amazonaws.com/assets/images/4-mars/2018/20180831_2113MR0112910010404680E01_DXXX_f537.jpg'},\n",
       " {'caption': 'Drill attempt at Ailsa Craig',\n",
       "  'link': 'https://planetary.s3.amazonaws.com/assets/images/4-mars/2018/20180906_2123MR0113710080404851E01_DXXX_f537.jpg'}]"
      ]
     },
     "execution_count": 241,
     "metadata": {},
     "output_type": "execute_result"
    }
   ],
   "source": []
  },
  {
   "cell_type": "code",
   "execution_count": null,
   "metadata": {},
   "outputs": [],
   "source": []
  }
 ],
 "metadata": {
  "kernelspec": {
   "display_name": "Python 3",
   "language": "python",
   "name": "python3"
  },
  "language_info": {
   "codemirror_mode": {
    "name": "ipython",
    "version": 3
   },
   "file_extension": ".py",
   "mimetype": "text/x-python",
   "name": "python",
   "nbconvert_exporter": "python",
   "pygments_lexer": "ipython3",
   "version": "3.6.7"
  }
 },
 "nbformat": 4,
 "nbformat_minor": 2
}
