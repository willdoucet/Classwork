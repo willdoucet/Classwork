{
 "cells": [
  {
   "cell_type": "code",
   "execution_count": null,
   "metadata": {},
   "outputs": [],
   "source": [
    "import json\n",
    "import requests\n",
    "from census import Census\n",
    "from us import states\n",
    "from pprint import pprint\n",
    "import pandas as pd\n",
    "import matplotlib.pyplot as plt\n",
    "import numpy as np\n",
    "import gmaps\n",
    "import gmaps.geojson_geometries\n",
    "from matplotlib.cm import viridis\n",
    "from matplotlib.colors import to_hex\n",
    "import os\n",
    "import gmaps.datasets\n",
    "import plotly\n",
    "import plotly.plotly as py\n",
    "import plotly.figure_factory as ff\n",
    "gkey = os.environ.get('gmaps')\n",
    "gmaps.configure(api_key=gkey)\n",
    "plotly.tools.set_credentials_file(username='willdoucet', api_key='PsaRlgAQKeEaFhQe1b6B')\n",
    "c = Census(\"cb3da972a3410fea907ff2284991388d72455cad\")"
   ]
  },
  {
   "cell_type": "code",
   "execution_count": null,
   "metadata": {},
   "outputs": [],
   "source": [
    "import plotly.graph_objs as go\n",
    "import plotly.io as pio"
   ]
  },
  {
   "cell_type": "code",
   "execution_count": null,
   "metadata": {},
   "outputs": [],
   "source": [
    "import warnings\n",
    "warnings.filterwarnings('ignore')"
   ]
  },
  {
   "cell_type": "code",
   "execution_count": null,
   "metadata": {},
   "outputs": [],
   "source": [
    "#assign ranks to rows GENERAL\n",
    "ranks=[]\n",
    "basescores=[]\n",
    "i=1\n",
    "for i in range (1, 59, 1):\n",
    "    ranks.append(i)\n",
    "basescores=list(reversed(ranks))\n",
    "print(basescores)"
   ]
  },
  {
   "cell_type": "code",
   "execution_count": null,
   "metadata": {
    "scrolled": true
   },
   "outputs": [],
   "source": [
    "state_fips = '06'\n",
    "fips_list_with_state = []\n",
    "fips_df = pd.read_csv('data/fips.csv', dtype=str)\n",
    "fips_df\n",
    "\n",
    "fips_list = fips_df['FIPS'].tolist()\n",
    "county_names = fips_df['Name'].tolist()\n",
    "\n",
    "for value in fips_list:\n",
    "    \n",
    "    fips_list_with_state.append(f'06{value}')\n",
    "    \n",
    "fips_list_with_state"
   ]
  },
  {
   "cell_type": "code",
   "execution_count": null,
   "metadata": {},
   "outputs": [],
   "source": [
    "count = 0\n",
    "for f in fips_list:\n",
    "    \n",
    "    #grab data\n",
    "    data = c.acs5.state_county(('NAME','B25013_003E', 'B25013_004E','B25013_005E','B25013_006E','B25013_008E','B25013_009E','B25013_010E',\n",
    "                      'B25013_011E'), state_fips, f, year=2016)\n",
    "        \n",
    "    temp_df = pd.DataFrame(data)\n",
    "    #when count = 0 create initial housing_df dataframe\n",
    "    if count == 0:\n",
    "            \n",
    "        housing_df = pd.DataFrame(temp_df)\n",
    "    #when count > 0 append new data to housing_df dataframe    \n",
    "    if count > 0:\n",
    "            \n",
    "        housing_df = housing_df.append(temp_df)\n",
    "            \n",
    "    count +=1"
   ]
  },
  {
   "cell_type": "code",
   "execution_count": null,
   "metadata": {},
   "outputs": [],
   "source": [
    "housing_df = housing_df.rename(columns={'B25013_003E': 'Owner - No High School', 'B25013_004E': 'Owner - High School',\n",
    "                                        'B25013_005E': 'Owner - Some College or Associates Deg', 'B25013_006E': 'Owner - Bachelors',\n",
    "                                       'B25013_008E': 'Renter - No High School', 'B25013_009E': 'Renter - High School',\n",
    "                                        'B25013_010E': 'Renter - Some College or Associates Deg', 'B25013_011E': 'Renter - Bachelors',\n",
    "                                        'NAME': 'County Name', 'county': 'County Code'\n",
    "                                       })"
   ]
  },
  {
   "cell_type": "code",
   "execution_count": null,
   "metadata": {},
   "outputs": [],
   "source": [
    "del housing_df['state']"
   ]
  },
  {
   "cell_type": "code",
   "execution_count": null,
   "metadata": {},
   "outputs": [],
   "source": [
    "housing_df.set_index(['County Code', 'County Name'], inplace=True)"
   ]
  },
  {
   "cell_type": "code",
   "execution_count": null,
   "metadata": {},
   "outputs": [],
   "source": [
    "housing_df"
   ]
  },
  {
   "cell_type": "code",
   "execution_count": null,
   "metadata": {},
   "outputs": [],
   "source": [
    "count = 0\n",
    "for f in fips_list:\n",
    "    \n",
    "    #grab data\n",
    "    data = c.acs5.state_county(('NAME', 'B08303_002E', 'B08303_003E', 'B08303_004E', 'B08303_005E', 'B08303_006E',\n",
    "                             'B08303_007E', 'B08303_008E', 'B08303_009E', 'B08303_010E',\n",
    "                             'B08303_011E', 'B08303_012E', 'B08303_013E'), state_fips, f, year=2016)\n",
    "        \n",
    "    temp_df = pd.DataFrame(data)\n",
    "    #when count = 0 create initial commute_df dataframe\n",
    "    if count == 0:\n",
    "            \n",
    "        commute_df = pd.DataFrame(temp_df)\n",
    "    #when count > 0 append new data to commute_df dataframe    \n",
    "    if count > 0:\n",
    "            \n",
    "        commute_df = commute_df.append(temp_df)\n",
    "            \n",
    "    count +=1"
   ]
  },
  {
   "cell_type": "code",
   "execution_count": null,
   "metadata": {},
   "outputs": [],
   "source": [
    "commute_df.rename(columns={'B08303_002E': '<5', 'B08303_003E': '5-9', 'B08303_004E': '10-14', 'B08303_005E': '15-19',\n",
    "                           'B08303_006E': '20-24','B08303_007E': '25-29', 'B08303_008E': '30-34', 'B08303_009E': '35-39',\n",
    "                           'B08303_010E': '40-44', 'B08303_011E': '45-59', 'B08303_012E': '60-89', 'B08303_013E': '>90',\n",
    "                          'NAME': 'County Name', 'county': 'County Code'\n",
    "                          }, inplace=True)"
   ]
  },
  {
   "cell_type": "code",
   "execution_count": null,
   "metadata": {},
   "outputs": [],
   "source": [
    "del commute_df['state']\n",
    "\n",
    "commute_df.set_index(['County Code', 'County Name'], inplace=True)\n",
    "\n",
    "for colname in commute_df.columns:\n",
    "    commute_df[colname] = commute_df[colname].astype(float)"
   ]
  },
  {
   "cell_type": "code",
   "execution_count": null,
   "metadata": {},
   "outputs": [],
   "source": [
    "commute_df.to_csv('data/Commute Time By County.csv')"
   ]
  },
  {
   "cell_type": "code",
   "execution_count": null,
   "metadata": {
    "scrolled": true
   },
   "outputs": [],
   "source": [
    "commute_med_num = []\n",
    "commute_l = commute_df.sum(axis=1).tolist()\n",
    "\n",
    "x= 0\n",
    "commute_bracket = []\n",
    "commute_tier = []\n",
    "for value in commute_l:\n",
    "    \n",
    "    commute_med_num.append(value / 2)\n",
    "    \n",
    "commute_med_num\n",
    "\n",
    "for index, row in commute_df.iterrows():\n",
    "    count=0\n",
    "    y=0\n",
    "    for colname in commute_df.columns:\n",
    "        \n",
    "        if count <= commute_med_num[x]:\n",
    "            \n",
    "            count += row[colname]\n",
    "            y+=1\n",
    "            \n",
    "        elif count > commute_med_num[x]:\n",
    "            \n",
    "            commute_bracket.append(colname)\n",
    "            commute_tier.append(y)\n",
    "            \n",
    "            break\n",
    "    x += 1"
   ]
  },
  {
   "cell_type": "code",
   "execution_count": null,
   "metadata": {},
   "outputs": [],
   "source": [
    "commute_colors = []\n",
    "commute_tier_norm = []\n",
    "for value in commute_tier:\n",
    "    \n",
    "    commute_denom = len(commute_df.columns)\n",
    "    normalized_commute = value / commute_denom\n",
    "    \n",
    "    commute_tier_norm.append(normalized_commute)"
   ]
  },
  {
   "cell_type": "code",
   "execution_count": null,
   "metadata": {},
   "outputs": [],
   "source": [
    "commute_colorscale = [\n",
    "    '#c2d1f0',\n",
    "    '#99b3e6',\n",
    "    '#7094db',\n",
    "    '#4775d1',\n",
    "    '#2e5cb8',\n",
    "    '#193366'\n",
    "]\n",
    "\n",
    "commute_choro = ff.create_choropleth(fips=fips_list_with_state, values=commute_bracket, colorscale=commute_colorscale, scope=['CA'],\n",
    "                                    county_outline={'color': 'rgb(255,255,255)', 'width': .5}, legend_title = 'Time in Minutes',\n",
    "                                    title = 'Median Commute Time by County' \n",
    "                                    )\n",
    "py.iplot(commute_choro, filename='Commute Time by County')"
   ]
  },
  {
   "cell_type": "code",
   "execution_count": null,
   "metadata": {},
   "outputs": [],
   "source": [
    "pio.write_image(commute_choro, 'images/commute_choro.png')"
   ]
  },
  {
   "cell_type": "code",
   "execution_count": null,
   "metadata": {},
   "outputs": [],
   "source": [
    "count = 0\n",
    "for f in fips_list:\n",
    "    \n",
    "    #grab data\n",
    "    data = c.acs5.state_county(('NAME', 'B19001_002E', 'B19001_003E', 'B19001_004E', 'B19001_005E', 'B19001_006E',\n",
    "                         'B19001_007E', 'B19001_008E', 'B19001_009E', 'B19001_010E', 'B19001_011E',\n",
    "                         'B19001_012E', 'B19001_013E', 'B19001_014E', 'B19001_015E', 'B19001_016E',\n",
    "                         'B19001_017E'), state_fips, f, year=2016)\n",
    "        \n",
    "    temp_df = pd.DataFrame(data)\n",
    "    #when count = 0 create initial income_df dataframe\n",
    "    if count == 0:\n",
    "            \n",
    "        income_df = pd.DataFrame(temp_df)\n",
    "    #when count > 0 append new data to income_df dataframe    \n",
    "    if count > 0:\n",
    "            \n",
    "        income_df = income_df.append(temp_df)\n",
    "            \n",
    "    count +=1"
   ]
  },
  {
   "cell_type": "code",
   "execution_count": null,
   "metadata": {},
   "outputs": [],
   "source": [
    "income_df.rename(columns={'B19001_002E': '<.100', 'B19001_003E': '.10,000-.14,999', 'B19001_004E': '.15,000-.19,999',\n",
    "                          'B19001_005E': '.200-.249', 'B19001_006E': '.250-.299', 'B19001_007E': '.300-.349',\n",
    "                          'B19001_008E': '.350-.399', 'B19001_009E': '.400-.449', 'B19001_010E': '.450-.499',\n",
    "                          'B19001_011E': '.500-.599', 'B19001_012E': '.600-.749', 'B19001_013E': '.750-.999',\n",
    "                          'B19001_014E': '1.000-1.249', 'B19001_015E': '1.250-1.499', 'B19001_016E': '1.500-1.999',\n",
    "                         'B19001_017E': '>2.000',\n",
    "                          'NAME': 'County Name', 'county': 'County Code'\n",
    "                          }, inplace=True)"
   ]
  },
  {
   "cell_type": "code",
   "execution_count": null,
   "metadata": {},
   "outputs": [],
   "source": [
    "del income_df['state']\n",
    "\n",
    "income_df.set_index(['County Code', 'County Name'], inplace=True)\n",
    "\n",
    "for colname in income_df.columns:\n",
    "    income_df[colname] = income_df[colname].astype(float)"
   ]
  },
  {
   "cell_type": "code",
   "execution_count": null,
   "metadata": {},
   "outputs": [],
   "source": [
    "income_df"
   ]
  },
  {
   "cell_type": "code",
   "execution_count": null,
   "metadata": {},
   "outputs": [],
   "source": [
    "income_med_num = []\n",
    "income_l = income_df.sum(axis=1).tolist()\n",
    "\n",
    "x= 0\n",
    "income_bracket = []\n",
    "income_tier = []\n",
    "for value in income_l:\n",
    "    \n",
    "    income_med_num.append(value / 2)\n",
    "    \n",
    "income_med_num\n",
    "\n",
    "for index, row in income_df.iterrows():\n",
    "    count=0\n",
    "    y=0\n",
    "    for colname in income_df.columns:\n",
    "        \n",
    "        if count <= income_med_num[x]:\n",
    "            \n",
    "            count += row[colname]\n",
    "            y+=1\n",
    "            \n",
    "        elif count > income_med_num[x]:\n",
    "            \n",
    "            income_bracket.append(colname)\n",
    "            income_tier.append(y)\n",
    "            \n",
    "            break\n",
    "    x += 1\n"
   ]
  },
  {
   "cell_type": "code",
   "execution_count": null,
   "metadata": {},
   "outputs": [],
   "source": [
    "income_df.to_csv('data/Income by County.csv')"
   ]
  },
  {
   "cell_type": "code",
   "execution_count": null,
   "metadata": {},
   "outputs": [],
   "source": [
    "income_colorscale = ['#d9f2d9', '#b3e6b3', '#8cd98c', '#66cc66', '#39ac39', '#2d862d', '#133913']\n",
    "\n",
    "income_choro = ff.create_choropleth(fips=fips_list_with_state, values=income_bracket, colorscale=income_colorscale, scope=['CA'],\n",
    "                                   county_outline={'color': 'rgb(255,255,255)', 'width': .5}, legend_title = 'Median Income / 100,000',\n",
    "                                    title = 'Median Income by County'\n",
    "                                   )\n",
    "py.iplot(income_choro, filename='Household Income by County')"
   ]
  },
  {
   "cell_type": "code",
   "execution_count": null,
   "metadata": {},
   "outputs": [],
   "source": [
    "pio.write_image(income_choro, 'images/Income Choro.png')"
   ]
  },
  {
   "cell_type": "code",
   "execution_count": null,
   "metadata": {},
   "outputs": [],
   "source": []
  },
  {
   "cell_type": "code",
   "execution_count": null,
   "metadata": {
    "scrolled": true
   },
   "outputs": [],
   "source": [
    "#Percent Rich is Here\n",
    "income_rank_df = income_df\n",
    "\n",
    "income_rank_df['Total People'] = income_l\n",
    "\n",
    "income_rank_df['Percentage Rich'] = income_rank_df['>2.000'] / income_rank_df['Total People'] * 100\n",
    "\n",
    "income_rank_df.sort_values('Percentage Rich', ascending=False)"
   ]
  },
  {
   "cell_type": "code",
   "execution_count": null,
   "metadata": {},
   "outputs": [],
   "source": [
    "income_ranking_df=income_rank_df.sort_values('Percentage Rich', ascending=False)\n",
    "#RANKS INCOME\n",
    "income_ranking_df['Rank']=ranks\n",
    "income_ranking_df.rename(columns={'Rank': 'Wealth Rank'}, inplace=True)\n",
    "income_ranking_df"
   ]
  },
  {
   "cell_type": "code",
   "execution_count": null,
   "metadata": {},
   "outputs": [],
   "source": [
    "count = 0\n",
    "for f in fips_list:\n",
    "    \n",
    "    #grab data\n",
    "    data = c.acs5.state_county(('NAME', 'B15003_017E', 'B15003_018E', 'B15003_019E', 'B15003_020E', 'B15003_021E',\n",
    "                         'B15003_022E', 'B15003_023E', 'B15003_024E', 'B15003_025E'), state_fips, f, year=2016)\n",
    "        \n",
    "    temp_df = pd.DataFrame(data)\n",
    "    #when count = 0 create initial education_df dataframe\n",
    "    if count == 0:\n",
    "            \n",
    "        education_df = pd.DataFrame(temp_df)\n",
    "    #when count > 0 append new data to education_df dataframe    \n",
    "    if count > 0:\n",
    "            \n",
    "        education_df = education_df.append(temp_df)\n",
    "            \n",
    "    count +=1"
   ]
  },
  {
   "cell_type": "code",
   "execution_count": null,
   "metadata": {},
   "outputs": [],
   "source": [
    "education_df.rename(columns={'B15003_017E': 'High School', 'B15003_018E': 'GED or Equivalent', 'B15003_019E': '<1yr College',\n",
    "                             'B15003_020E': '>=1yr College No Deg', 'B15003_021E': 'Associates Deg',\n",
    "                         'B15003_022E': 'Bachelors Deg', 'B15003_023E': 'Masters Deg', 'B15003_024E': 'Professional Deg',\n",
    "                         'B15003_025E': 'PhD',\n",
    "                          'NAME': 'County Name', 'county': 'County Code'\n",
    "                          }, inplace=True)"
   ]
  },
  {
   "cell_type": "code",
   "execution_count": null,
   "metadata": {},
   "outputs": [],
   "source": [
    "del education_df['state']\n",
    "\n",
    "education_df.set_index(['County Code', 'County Name'], inplace=True)\n",
    "\n",
    "for colname in education_df.columns:\n",
    "    education_df[colname] = education_df[colname].astype(float)"
   ]
  },
  {
   "cell_type": "code",
   "execution_count": null,
   "metadata": {},
   "outputs": [],
   "source": [
    "education_med_num = []\n",
    "education_l = education_df.sum(axis=1).tolist()\n",
    "\n",
    "x= 0\n",
    "education_bracket = []\n",
    "education_tier = []\n",
    "for value in education_l:\n",
    "    \n",
    "    education_med_num.append(value / 2)\n",
    "    \n",
    "education_med_num\n",
    "\n",
    "for index, row in education_df.iterrows():\n",
    "    count=0\n",
    "    y=0\n",
    "    for colname in education_df.columns:\n",
    "        \n",
    "        if count <= education_med_num[x]:\n",
    "            \n",
    "            count += row[colname]\n",
    "            y+=1\n",
    "            \n",
    "        elif count > education_med_num[x]:\n",
    "            \n",
    "            education_bracket.append(colname)\n",
    "            education_tier.append(y)\n",
    "            \n",
    "            break\n",
    "    x += 1"
   ]
  },
  {
   "cell_type": "code",
   "execution_count": null,
   "metadata": {},
   "outputs": [],
   "source": [
    "education_df.to_csv('data/Education DataFrame')"
   ]
  },
  {
   "cell_type": "code",
   "execution_count": null,
   "metadata": {},
   "outputs": [],
   "source": [
    "education_colorscale = [\"#ebf3fb\",\"#b3d2e9\",\n",
    "              \"#57a0ce\",\"#1361a9\",\n",
    "              \"#08306b\"]\n",
    "\n",
    "education_choro = ff.create_choropleth(fips=fips_list_with_state, values=education_bracket, colorscale=education_colorscale, scope=['CA'],\n",
    "                                      county_outline={'color': 'rgb(255,255,255)', 'width': .5}, legend_title = 'Education Level',\n",
    "                                    title = 'Education Level by County'\n",
    "                                      )\n",
    "py.iplot(education_choro, filename='Level of Education by County')"
   ]
  },
  {
   "cell_type": "code",
   "execution_count": null,
   "metadata": {},
   "outputs": [],
   "source": [
    "pio.write_image(education_choro, 'images/Education Choro.png')"
   ]
  },
  {
   "cell_type": "code",
   "execution_count": null,
   "metadata": {},
   "outputs": [],
   "source": [
    "education_rank_df = education_df\n",
    "\n",
    "education_rank_df['Educated'] = education_rank_df['Bachelors Deg'] + education_rank_df['Masters Deg'] + education_rank_df['Professional Deg'] + education_rank_df['PhD']"
   ]
  },
  {
   "cell_type": "code",
   "execution_count": null,
   "metadata": {},
   "outputs": [],
   "source": [
    "education_rank_df['Percent Educated'] = education_l\n",
    "\n",
    "education_rank_df.rename(columns={'Percent Educated': 'Total People'}, inplace=True)\n",
    "\n",
    "education_rank_df"
   ]
  },
  {
   "cell_type": "code",
   "execution_count": null,
   "metadata": {},
   "outputs": [],
   "source": [
    "education_rank_df['Percent Educated'] = education_rank_df['Educated'] / education_rank_df['Total People'] * 100\n",
    "education_rank_df.sort_values('Percent Educated', ascending=False)"
   ]
  },
  {
   "cell_type": "code",
   "execution_count": null,
   "metadata": {},
   "outputs": [],
   "source": [
    "#Percent educated is here and so are ranks\n",
    "education_rank_df['Percent Educated'] = education_rank_df['Educated'] / education_rank_df['Total People'] * 100\n",
    "#education_rank_df.sort_values('Percent Educated', ascending=False)\n",
    "#education_rank_df\n",
    "#RANKS\n",
    "education_ranking_df=education_rank_df.sort_values('Percent Educated', ascending=False)\n",
    "#education_ranking_df\n",
    "education_ranking_df['Rank']=ranks\n",
    "education_ranking_df.rename(columns={'Rank': 'Education Rank'}, inplace=True)\n",
    "education_ranking_df"
   ]
  },
  {
   "cell_type": "code",
   "execution_count": null,
   "metadata": {},
   "outputs": [],
   "source": [
    "count = 0\n",
    "for f in fips_list:\n",
    "    \n",
    "    #grab data\n",
    "    data = c.acs5.state_county(('NAME', 'B25087_004E', 'B25087_005E', 'B25087_006E', 'B25087_007E', 'B25087_008E',\n",
    "                         'B25087_009E', 'B25087_010E', 'B25087_011E', 'B25087_012E', 'B25087_013E', 'B25087_014E',\n",
    "                         'B25087_015E', 'B25087_016E', 'B25087_017E'), state_fips, f, year=2016)\n",
    "        \n",
    "    temp_df = pd.DataFrame(data)\n",
    "    #when count = 0 create initial mortgage_df dataframe\n",
    "    if count == 0:\n",
    "            \n",
    "        mortgage_df = pd.DataFrame(temp_df)\n",
    "    #when count > 0 append new data to mortgage_df dataframe    \n",
    "    if count > 0:\n",
    "            \n",
    "        mortgage_df = mortgage_df.append(temp_df)\n",
    "            \n",
    "    count +=1"
   ]
  },
  {
   "cell_type": "code",
   "execution_count": null,
   "metadata": {},
   "outputs": [],
   "source": [
    "mortgage_df.rename(columns={'B25087_004E': '.200-.299', 'B25087_005E': '.300-.399', 'B25087_006E': '.400-.499',\n",
    "                            'B25087_007E': '.500-.599', 'B25087_008E': '.600-.699', 'B25087_009E': '.700-.799',\n",
    "                            'B25087_010E': '.800-.899', 'B25087_011E': '.900-.999', 'B25087_012E': '1.000-1.249',\n",
    "                            'B25087_013E': '1.250-1.499', 'B25087_014E': '1.500-1.999', 'B25087_015E': '2.000-2.499',\n",
    "                            'B25087_016E': '2.500-2.999', 'B25087_017E': '>3.000',\n",
    "                          'NAME': 'County Name', 'county': 'County Code'\n",
    "                          }, inplace=True)"
   ]
  },
  {
   "cell_type": "code",
   "execution_count": null,
   "metadata": {},
   "outputs": [],
   "source": [
    "del mortgage_df['state']\n",
    "\n",
    "mortgage_df.set_index(['County Code', 'County Name'], inplace=True)\n",
    "\n",
    "for colname in mortgage_df.columns:\n",
    "    mortgage_df[colname] = mortgage_df[colname].astype(float)"
   ]
  },
  {
   "cell_type": "code",
   "execution_count": null,
   "metadata": {},
   "outputs": [],
   "source": [
    "mortgage_med_num = []\n",
    "mortgage_l = mortgage_df.sum(axis=1).tolist()\n",
    "\n",
    "x= 0\n",
    "mortgage_bracket = []\n",
    "mortgage_tier = []\n",
    "for value in mortgage_l:\n",
    "    \n",
    "    mortgage_med_num.append(value / 2)\n",
    "    \n",
    "mortgage_med_num\n",
    "\n",
    "for index, row in mortgage_df.iterrows():\n",
    "    count=0\n",
    "    y=0\n",
    "    for colname in mortgage_df.columns:\n",
    "        \n",
    "        if count <= mortgage_med_num[x]:\n",
    "            \n",
    "            count += row[colname]\n",
    "            y+=1\n",
    "            \n",
    "        elif count > mortgage_med_num[x]:\n",
    "            \n",
    "            mortgage_bracket.append(colname)\n",
    "            mortgage_tier.append(y)\n",
    "            \n",
    "            break\n",
    "    x += 1"
   ]
  },
  {
   "cell_type": "code",
   "execution_count": null,
   "metadata": {},
   "outputs": [],
   "source": [
    "mortgage_df.to_csv('data/Mortage DataFrame')"
   ]
  },
  {
   "cell_type": "code",
   "execution_count": null,
   "metadata": {},
   "outputs": [],
   "source": [
    "mortgage_colorscale = [\"#ebf3fb\",\"#d2e3f3\",\"#b3d2e9\",\n",
    "              \"#85bcdb\",\"#57a0ce\",\"#3082be\",\"#1361a9\",\n",
    "              \"#0b4083\",\"#08306b\"]\n",
    "\n",
    "mortgage_choro = ff.create_choropleth(fips=fips_list_with_state, values=mortgage_bracket, colorscale=mortgage_colorscale, scope=['CA'],\n",
    "                                     county_outline={'color': 'rgb(255,255,255)', 'width': .5}, legend_title = 'Mortgage Amount / 1000',\n",
    "                                    title = 'Mortgage by County'\n",
    "                                     )\n",
    "py.iplot(mortgage_choro, filename='Monthly Mortage Payment by County')"
   ]
  },
  {
   "cell_type": "code",
   "execution_count": null,
   "metadata": {},
   "outputs": [],
   "source": [
    "pio.write_image(mortgage_choro, 'images/Mortgage Choro.png')"
   ]
  },
  {
   "cell_type": "code",
   "execution_count": null,
   "metadata": {},
   "outputs": [],
   "source": [
    "mortgage_df"
   ]
  },
  {
   "cell_type": "code",
   "execution_count": null,
   "metadata": {},
   "outputs": [],
   "source": []
  },
  {
   "cell_type": "code",
   "execution_count": null,
   "metadata": {},
   "outputs": [],
   "source": [
    "mortgage_rank_df = mortgage_df\n",
    "\n",
    "mortgage_rank_df"
   ]
  },
  {
   "cell_type": "code",
   "execution_count": null,
   "metadata": {},
   "outputs": [],
   "source": [
    "count = 0\n",
    "for f in fips_list:\n",
    "    \n",
    "    #grab data\n",
    "    data = c.acs5.state_county(('NAME', 'B25091_002E', 'B25091_003E', 'B25091_004E', 'B25091_005E', 'B25091_006E',\n",
    "                         'B25091_007E', 'B25091_008E', 'B25091_009E', 'B25091_010E', 'B25091_011E'), state_fips, f, year=2016)\n",
    "        \n",
    "    temp_df = pd.DataFrame(data)\n",
    "    #when count = 0 create initial mortgage_per_df dataframe\n",
    "    if count == 0:\n",
    "            \n",
    "        mortgage_per_df = pd.DataFrame(temp_df)\n",
    "    #when count > 0 append new data to mortgage_per_df dataframe    \n",
    "    if count > 0:\n",
    "            \n",
    "        mortgage_per_df = mortgage_per_df.append(temp_df)\n",
    "            \n",
    "    count +=1"
   ]
  },
  {
   "cell_type": "code",
   "execution_count": null,
   "metadata": {},
   "outputs": [],
   "source": [
    "mortgage_per_df.rename(columns={'B25091_002E': 'Total', 'B25091_003E': '<10%', 'B25091_004E': '10%-14%',\n",
    "                                                 'B25091_005E': '15%-19%', 'B25091_006E': '20%-24%', 'B25091_007E': '25%-29%',\n",
    "                                                 'B25091_008E': '30%-34%', 'B25091_009E': '35%-39%', 'B25091_010E': '40%-49%',\n",
    "                                                 'B25091_011E': '>50%',\n",
    "                          'NAME': 'County Name', 'county': 'County Code'\n",
    "                          }, inplace=True)"
   ]
  },
  {
   "cell_type": "code",
   "execution_count": null,
   "metadata": {},
   "outputs": [],
   "source": [
    "del mortgage_per_df['state']\n",
    "\n",
    "mortgage_per_df.set_index(['County Code', 'County Name'], inplace=True)\n",
    "\n",
    "for colname in mortgage_per_df.columns:\n",
    "    mortgage_per_df[colname] = mortgage_per_df[colname].astype(float)"
   ]
  },
  {
   "cell_type": "code",
   "execution_count": null,
   "metadata": {},
   "outputs": [],
   "source": [
    "del mortgage_per_df['Total']"
   ]
  },
  {
   "cell_type": "code",
   "execution_count": null,
   "metadata": {},
   "outputs": [],
   "source": [
    "mortgage_per_med_num = []\n",
    "mortgage_per_l = mortgage_per_df.sum(axis=1).tolist()\n",
    "\n",
    "x= 0\n",
    "mortgage_per_bracket = []\n",
    "mortgage_per_tier = []\n",
    "for value in mortgage_per_l:\n",
    "    \n",
    "    mortgage_per_med_num.append(value / 2)\n",
    "    \n",
    "mortgage_per_med_num\n",
    "\n",
    "for index, row in mortgage_per_df.iterrows():\n",
    "    count=0\n",
    "    y=0\n",
    "    for colname in mortgage_per_df.columns:\n",
    "        \n",
    "        if count <= mortgage_per_med_num[x]:\n",
    "            \n",
    "            count += row[colname]\n",
    "            y+=1\n",
    "            \n",
    "        elif count > mortgage_per_med_num[x]:\n",
    "            \n",
    "            mortgage_per_bracket.append(colname)\n",
    "            mortgage_per_tier.append(y)\n",
    "            \n",
    "            break\n",
    "    x += 1"
   ]
  },
  {
   "cell_type": "code",
   "execution_count": null,
   "metadata": {},
   "outputs": [],
   "source": [
    "mortgage_per_bracket"
   ]
  },
  {
   "cell_type": "code",
   "execution_count": null,
   "metadata": {},
   "outputs": [],
   "source": [
    "mortgage_per_df.to_csv('data/Mortage as Percentage of Income DataFrame.csv')"
   ]
  },
  {
   "cell_type": "code",
   "execution_count": null,
   "metadata": {},
   "outputs": [],
   "source": [
    "mortgage_per_colorscale = [\"#b3d2e9\",\n",
    "              \"#85bcdb\",\"#3082be\",\n",
    "              \"#0b4083\",\"#08306b\"]\n",
    "\n",
    "mortgage_per_choro = ff.create_choropleth(fips=fips_list_with_state, values=mortgage_per_bracket, colorscale=mortgage_per_colorscale, scope=['CA'],\n",
    "                                         county_outline={'color': 'rgb(255,255,255)', 'width': .5}, legend_title = 'Mortgage/Income',\n",
    "                                    title = 'Mortgage as Percent of Income'\n",
    "                                         )\n",
    "py.iplot(mortgage_per_choro, filename='Percentage of Income Devoted to Mortgage')"
   ]
  },
  {
   "cell_type": "code",
   "execution_count": null,
   "metadata": {},
   "outputs": [],
   "source": []
  },
  {
   "cell_type": "code",
   "execution_count": null,
   "metadata": {
    "scrolled": true
   },
   "outputs": [],
   "source": [
    "count = 0\n",
    "for f in fips_list:\n",
    "    \n",
    "    #grab data\n",
    "    data = c.acs5.state_county(('NAME', 'B25070_001E', 'B25070_002E', 'B25070_003E', 'B25070_004E', 'B25070_005E',\n",
    "                         'B25070_006E', 'B25070_007E', 'B25070_008E', 'B25070_009E', 'B25070_010E'), state_fips, f, year=2016)\n",
    "        \n",
    "    temp_df = pd.DataFrame(data)\n",
    "    #when count = 0 create initial rent_per_df dataframe\n",
    "    if count == 0:\n",
    "            \n",
    "        rent_per_df = pd.DataFrame(temp_df)\n",
    "    #when count > 0 append new data to rent_per_df dataframe    \n",
    "    if count > 0:\n",
    "            \n",
    "        rent_per_df = rent_per_df.append(temp_df)\n",
    "            \n",
    "    count +=1"
   ]
  },
  {
   "cell_type": "code",
   "execution_count": null,
   "metadata": {},
   "outputs": [],
   "source": [
    "rent_per_df.rename(columns={'B25070_001E': 'Total', 'B25070_002E': '<10', 'B25070_003E': '10-14',\n",
    "                                                 'B25070_004E': '15-19', 'B25070_005E': '20-24', 'B25070_006E': '25-29',\n",
    "                                                 'B25070_007E': '30-34', 'B25070_008E': '35-39', 'B25070_009E': '40-49',\n",
    "                                                 'B25070_010E': '>50',\n",
    "                          'NAME': 'County Name', 'county': 'County Code'\n",
    "                          }, inplace=True)"
   ]
  },
  {
   "cell_type": "code",
   "execution_count": null,
   "metadata": {},
   "outputs": [],
   "source": [
    "del rent_per_df['state']\n",
    "del rent_per_df['Total']\n",
    "rent_per_df.set_index(['County Code', 'County Name'], inplace=True)\n",
    "\n",
    "for colname in rent_per_df.columns:\n",
    "    rent_per_df[colname] = rent_per_df[colname].astype(float)"
   ]
  },
  {
   "cell_type": "code",
   "execution_count": null,
   "metadata": {},
   "outputs": [],
   "source": [
    "rent_per_med_num = []\n",
    "rent_per_l = rent_per_df.sum(axis=1).tolist()\n",
    "\n",
    "x= 0\n",
    "rent_per_bracket = []\n",
    "rent_per_tier = []\n",
    "for value in rent_per_l:\n",
    "    \n",
    "    rent_per_med_num.append(value / 2)\n",
    "    \n",
    "rent_per_med_num\n",
    "\n",
    "for index, row in rent_per_df.iterrows():\n",
    "    count=0\n",
    "    y=0\n",
    "    for colname in rent_per_df.columns:\n",
    "        \n",
    "        if count <= rent_per_med_num[x]:\n",
    "            \n",
    "            count += row[colname]\n",
    "            y+=1\n",
    "            \n",
    "        elif count > rent_per_med_num[x]:\n",
    "            \n",
    "            rent_per_bracket.append(colname)\n",
    "            rent_per_tier.append(y)\n",
    "            \n",
    "            break\n",
    "    x += 1"
   ]
  },
  {
   "cell_type": "code",
   "execution_count": null,
   "metadata": {},
   "outputs": [],
   "source": [
    "rent_per_df.to_csv('data/Rent as Percentage of Income DataFrame')"
   ]
  },
  {
   "cell_type": "code",
   "execution_count": null,
   "metadata": {},
   "outputs": [],
   "source": [
    "rent_per_colorscale = [\"#ebf3fb\",\"#d2e3f3\",\"#b3d2e9\",\n",
    "              \"#85bcdb\",\"#57a0ce\",\"#3082be\",\"#1361a9\",\n",
    "              \"#0b4083\",\"#08306b\"]\n",
    "\n",
    "rent_per_choro = ff.create_choropleth(fips=fips_list_with_state, values=rent_per_bracket, colorscale=rent_per_colorscale, scope=['CA'])\n",
    "py.iplot(rent_per_choro, filename='Percentage of Income Devoted to Rent')"
   ]
  },
  {
   "cell_type": "code",
   "execution_count": null,
   "metadata": {},
   "outputs": [],
   "source": [
    "housing_price_df = pd.read_csv('data/zillow_housing_price.csv')\n",
    "del housing_price_df['Unnamed: 0']\n",
    "housing_price_list = housing_price_df['Median Value'].tolist()"
   ]
  },
  {
   "cell_type": "code",
   "execution_count": null,
   "metadata": {},
   "outputs": [],
   "source": [
    "housing_price_endpoints = list(np.mgrid[min(housing_price_list):max(housing_price_list):14j])\n",
    "#housing_price_fig = ff.create_choropleth()\n",
    "mortgage_price_colorscale = [\"#cccccc\",\"#ebf3fb\",\"#deebf7\",\"#d2e3f3\",\"#c6dbef\",\"#b3d2e9\",\"#9ecae1\",\n",
    "              \"#85bcdb\",\"#6baed6\",\"#57a0ce\",\"#4292c6\",\"#3082be\",\"#2171b5\",\"#1361a9\",\n",
    "              \"#08519c\",\"#0b4083\",\"#08306b\"]\n",
    "housing_price_endpoints"
   ]
  },
  {
   "cell_type": "code",
   "execution_count": null,
   "metadata": {},
   "outputs": [],
   "source": [
    "housing_price_fig = ff.create_choropleth(fips = fips_list_with_state, values = housing_price_list,\n",
    "                                        colorscale = mortgage_price_colorscale, binning_endpoints = housing_price_endpoints,\n",
    "                                         scope = ['CA'],\n",
    "                                         county_outline={'color': 'rgb(255,255,255)', 'width': .5}, legend_title = 'Median Dollar Value of Homes',\n",
    "                                    title = 'Median Housing Price by County'\n",
    "\n",
    ")"
   ]
  },
  {
   "cell_type": "code",
   "execution_count": null,
   "metadata": {},
   "outputs": [],
   "source": [
    "py.iplot(housing_price_fig, filename='Housing Price by County')"
   ]
  },
  {
   "cell_type": "code",
   "execution_count": null,
   "metadata": {},
   "outputs": [],
   "source": [
    "pio.write_image(housing_price_fig, 'images/Housing Value Choro.png')"
   ]
  },
  {
   "cell_type": "code",
   "execution_count": null,
   "metadata": {},
   "outputs": [],
   "source": [
    "income_vs_housing = pd.DataFrame(income_bracket, housing_price_list, index=county_names)"
   ]
  },
  {
   "cell_type": "code",
   "execution_count": null,
   "metadata": {},
   "outputs": [],
   "source": [
    "income_vs_housing = income_vs_housing.reset_index()"
   ]
  },
  {
   "cell_type": "code",
   "execution_count": null,
   "metadata": {},
   "outputs": [],
   "source": [
    "income_vs_housing['County Name'] = county_names"
   ]
  },
  {
   "cell_type": "code",
   "execution_count": null,
   "metadata": {},
   "outputs": [],
   "source": [
    "income_vs_housing.set_index('County Name', inplace=True)"
   ]
  },
  {
   "cell_type": "code",
   "execution_count": null,
   "metadata": {},
   "outputs": [],
   "source": [
    "income_graph_list = income_vs_housing.loc[income_vs_housing['index'] != 0]"
   ]
  },
  {
   "cell_type": "code",
   "execution_count": null,
   "metadata": {},
   "outputs": [],
   "source": [
    "income_graph_list.rename(columns={'index': 'Housing Price', 0: 'Median Income'}, inplace=True)"
   ]
  },
  {
   "cell_type": "code",
   "execution_count": null,
   "metadata": {},
   "outputs": [],
   "source": [
    "#\n",
    "income_float_list = []\n",
    "for index, row in income_graph_list.iterrows():\n",
    "    \n",
    "    if row['Median Income'] == '.400-.449':\n",
    "        \n",
    "        income_float_list.append(425000)\n",
    "        \n",
    "    elif row['Median Income'] == '.450-.499':\n",
    "    \n",
    "        income_float_list.append(475000)\n",
    "        \n",
    "    elif row['Median Income'] == '.500-.549':\n",
    "        \n",
    "        income_float_list.append(525000)\n",
    "    \n",
    "    elif row['Median Income'] == '.500-.599':\n",
    "        \n",
    "        income_float_list.append(550000)\n",
    "    \n",
    "    elif row['Median Income'] == '.600-.749':\n",
    "        \n",
    "        income_float_list.append(675000)\n",
    "        \n",
    "    elif row['Median Income'] == '.650-.699':\n",
    "        \n",
    "        income_float_list.append(675000)\n",
    "        \n",
    "    elif row['Median Income'] == '.700-.749':\n",
    "        \n",
    "        income_float_list.append(725000)\n",
    "        \n",
    "    elif row['Median Income'] == '.750-.999':\n",
    "        \n",
    "        income_float_list.append(875000)\n",
    "        \n",
    "    elif row['Median Income'] == '1.000-1.249':\n",
    "        \n",
    "        income_float_list.append(1125000)\n",
    "        \n",
    "    elif row['Median Income'] == '1.250-1.499':\n",
    "        \n",
    "        income_float_list.append(1375000)\n",
    "        "
   ]
  },
  {
   "cell_type": "code",
   "execution_count": null,
   "metadata": {},
   "outputs": [],
   "source": [
    "income_graph_list['Average Income'] = income_float_list"
   ]
  },
  {
   "cell_type": "code",
   "execution_count": null,
   "metadata": {},
   "outputs": [],
   "source": [
    "income_graph_list.plot(kind='scatter', x='Average Income', y='Housing Price')\n",
    "plt.title('Housing Price vs Income')\n",
    "plt.savefig('images/Housing Price vs Income')"
   ]
  },
  {
   "cell_type": "code",
   "execution_count": null,
   "metadata": {},
   "outputs": [],
   "source": [
    "\n",
    "\n",
    "count = 0\n",
    "for f in fips_list:\n",
    "    \n",
    "    #grab data\n",
    "    data = c.acs5.state_county(('NAME', 'B25064_001E'), state_fips, f, year=2016)\n",
    "        \n",
    "    temp_df = pd.DataFrame(data)\n",
    "    #when count = 0 create initial rent_df dataframe\n",
    "    if count == 0:\n",
    "            \n",
    "        rent_df = pd.DataFrame(temp_df)\n",
    "    #when count > 0 append new data to rent_df dataframe    \n",
    "    if count > 0:\n",
    "            \n",
    "        rent_df = rent_df.append(temp_df)\n",
    "            \n",
    "    count +=1"
   ]
  },
  {
   "cell_type": "code",
   "execution_count": null,
   "metadata": {
    "scrolled": true
   },
   "outputs": [],
   "source": [
    "rent_df.rename(columns={'B25070_001E': 'Total', 'B25064_001E': 'Median Rent',\n",
    "                          'NAME': 'County Name', 'county': 'County Code'\n",
    "                          }, inplace=True)"
   ]
  },
  {
   "cell_type": "code",
   "execution_count": null,
   "metadata": {},
   "outputs": [],
   "source": [
    "del rent_df['state']\n",
    "rent_df.set_index(['County Code', 'County Name'], inplace=True)\n",
    "\n",
    "for colname in rent_df.columns:\n",
    "    rent_df[colname] = rent_df[colname].astype(float)"
   ]
  },
  {
   "cell_type": "code",
   "execution_count": null,
   "metadata": {},
   "outputs": [],
   "source": [
    "rent_med_num = []\n",
    "rent_l = rent_df.sum(axis=1).tolist()\n",
    "\n",
    "x= 0\n",
    "rent_bracket = []\n",
    "rent_tier = []\n",
    "for value in rent_l:\n",
    "    \n",
    "    rent_med_num.append(value / 2)\n",
    "    \n",
    "rent_med_num\n",
    "\n",
    "for index, row in rent_df.iterrows():\n",
    "    count=0\n",
    "    y=0\n",
    "    for colname in rent_df.columns:\n",
    "        \n",
    "        if count <= rent_med_num[x]:\n",
    "            \n",
    "            count += row[colname]\n",
    "            y+=1\n",
    "            \n",
    "        elif count > rent_med_num[x]:\n",
    "            \n",
    "            rent_bracket.append(colname)\n",
    "            rent_tier.append(y)\n",
    "            \n",
    "            break\n",
    "    x += 1"
   ]
  },
  {
   "cell_type": "code",
   "execution_count": null,
   "metadata": {},
   "outputs": [],
   "source": [
    "rent_bracket = rent_df['Median Rent'].tolist()"
   ]
  },
  {
   "cell_type": "code",
   "execution_count": null,
   "metadata": {},
   "outputs": [],
   "source": [
    "rent_endpoints = list(np.mgrid[min(rent_bracket):max(rent_bracket):12j])\n",
    "#rent_fig = ff.create_choropleth()\n",
    "mortgage_price_colorscale = [\"#cccccc\",\"#ebf3fb\",\"#deebf7\",\"#d2e3f3\",\"#c6dbef\",\"#b3d2e9\",\"#9ecae1\",\n",
    "              \"#85bcdb\",\"#6baed6\",\"#57a0ce\",\"#4292c6\",\"#3082be\",\"#2171b5\",\"#1361a9\",\n",
    "              \"#08519c\",\"#0b4083\",\"#08306b\"]\n",
    "rent_endpoints"
   ]
  },
  {
   "cell_type": "code",
   "execution_count": null,
   "metadata": {},
   "outputs": [],
   "source": [
    "rent_fig = ff.create_choropleth(fips = fips_list_with_state, values = rent_bracket,\n",
    "                                        colorscale = mortgage_price_colorscale, binning_endpoints = rent_endpoints,\n",
    "                                         scope = ['CA'],\n",
    "                                         county_outline={'color': 'rgb(255,255,255)', 'width': .5}, legend_title = 'Amount of Rent',\n",
    "                                    title = 'Median Rent by County')\n",
    "py.iplot(rent_fig, filename='Housing Price by County')"
   ]
  },
  {
   "cell_type": "code",
   "execution_count": null,
   "metadata": {},
   "outputs": [],
   "source": [
    "pio.write_image(rent_fig, 'images/Rent by County.png')"
   ]
  },
  {
   "cell_type": "code",
   "execution_count": null,
   "metadata": {},
   "outputs": [],
   "source": [
    "edportance=int(input(\"How important is it that your neighbors are well educated?: \"))\n",
    "wealthportance=int(input(\"How important is it that your neighbors are wealthy?: \"))\n",
    "#comportance= int(input(\"How important is it that your commute is short? \"))\n",
    "#GET USER INPUT\n",
    "print(\"Please rank the importance of the following factors. Note: 1 most important 2 least important\")\n",
    "print(\"\")\n",
    "#get user input about ranks\n",
    "edrank= int(input(\"My neighbors are well educated: \"))\n",
    "wealthrank= int(input(\"My neighbors are rich: \"))\n",
    "#comrank= int(input(\"I live close to where I work: \"))\n",
    "print(\"\")\n",
    "#invert values to correlate value instead of rank with importance\n",
    "edmult=4-edrank\n",
    "wealthmult=4-wealthrank\n",
    "#commult=4-comrank\n"
   ]
  },
  {
   "cell_type": "code",
   "execution_count": null,
   "metadata": {},
   "outputs": [],
   "source": [
    "#get combined importance multipliers from user input section at top\n",
    "edfinmult=edmult*edportance\n",
    "wealthfinmult=wealthmult*wealthportance\n",
    "\n",
    "#before making final DataFrame, we'll need to list cities and then locate each type of ranking record per city\n",
    "#get countynames from a DataFrame that DOES NOT use it as an index\n",
    "#countieslist=rent_per_df['County Name'].tolist() #be careful about executing the list this actually comes from\n",
    "#numcounties=len(countieslist)\n",
    "#finalcountyinfo=pd.DataFrame(countieslist)\n",
    "\n",
    "#df.loc[\"Berry\", \"Phone Number\"]\n",
    "\n",
    "#final wealth rankings DataFrame construction\n",
    "isolated_wealth_rankings=income_ranking_df.loc[:, ['Wealth Rank']]\n",
    "isolated_wealth_rankings_mult=isolated_wealth_rankings\n",
    "#lambda function to switch rank to score and multiply it by preferences\n",
    "isolated_wealth_rankings_mult['Wealth Score']=isolated_wealth_rankings_mult[\"Wealth Rank\"].apply(lambda x : (58-x)*wealthfinmult)\n",
    "#isolated_wealth_rankings_mult['Wealth Rank'].apply(lambda x : x*wealthfinmult)\n",
    "isolated_wealth_rankings_mult\n",
    "#df['a'] = df['a'].apply(lambda x: x + 1)\n",
    "\n",
    "isolated_education_rankings=education_ranking_df.loc[:, ['Education Rank']]\n",
    "isolated_education_rankings_mult=isolated_education_rankings\n",
    "isolated_education_rankings_mult['Education Score']=isolated_education_rankings_mult['Education Rank'].apply(lambda x: (58-x)*edfinmult)\n",
    "#isolated_education_rankings_mult['Education Rank'].apply(lambda x: x*edfinmult)\n",
    "#isolated_education_rankings\n",
    "#isolated_education_rankings_mult\n",
    "\n",
    "final_preferences_df=pd.merge(isolated_education_rankings_mult, isolated_wealth_rankings_mult, on='County Name', how='outer')\n",
    "final_preferences_df['Final County Score']=final_preferences_df['Education Score']+final_preferences_df['Wealth Score']\n",
    "\n",
    "final_rank_df=final_preferences_df.sort_values('Final County Score', ascending=False)\n",
    "final_rank_df['Overall County Rank']=ranks\n",
    "final_rank_df\n",
    "\n",
    "#USE THIS METHOD TO MAKE FINAL DF? finalpreferences_df=pd.concat([df1['c'], df2['c']], axis=1, keys=['df1', 'df2'])"
   ]
  }
 ],
 "metadata": {
  "kernelspec": {
   "display_name": "Python 3",
   "language": "python",
   "name": "python3"
  },
  "language_info": {
   "codemirror_mode": {
    "name": "ipython",
    "version": 3
   },
   "file_extension": ".py",
   "mimetype": "text/x-python",
   "name": "python",
   "nbconvert_exporter": "python",
   "pygments_lexer": "ipython3",
   "version": "3.6.7"
  }
 },
 "nbformat": 4,
 "nbformat_minor": 2
}
